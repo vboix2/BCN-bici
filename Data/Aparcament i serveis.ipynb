{
 "cells": [
  {
   "cell_type": "markdown",
   "metadata": {},
   "source": [
    "## Preparació"
   ]
  },
  {
   "cell_type": "code",
   "execution_count": 157,
   "metadata": {},
   "outputs": [],
   "source": [
    "# Paquets\n",
    "\n",
    "import json, os, urllib, zipfile\n",
    "import pandas as pd\n",
    "import geopandas as gpd\n",
    "import xml.etree.ElementTree as ET"
   ]
  },
  {
   "cell_type": "code",
   "execution_count": 158,
   "metadata": {},
   "outputs": [],
   "source": [
    "# Paràmetres\n",
    "\n",
    "# Directori de treball\n",
    "WORK_DIR = os.path.abspath(os.getcwd())\n",
    "\n",
    "# Enllaços dades\n",
    "URL_PUNTS_ANC = 'https://opendata-ajuntament.barcelona.cat/data/dataset/6778b87d-da09-4eb8-9504-5c9ae5fbfad9/resource/6cea1468-f18e-438b-b1c5-ea7c0e287412/download'\n",
    "URL_APARCAMENT = 'https://opendata-ajuntament.barcelona.cat/data/dataset/a7fd022c-d703-49e3-b628-7b32599a6a54/resource/85457026-c48d-4a95-ac9e-080756375d50/download'\n",
    "URL_SERVEIS = 'https://opendata-ajuntament.barcelona.cat/data/dataset/12bb6230-1a79-4371-89c5-d59aaa67152e/resource/f7e37859-7f3c-4dcb-ac70-91eae481dd26/download'\n",
    "\n",
    "URL_BICING_INFO = 'https://api.bsmsa.eu/ext/api/bsm/gbfs/v2/en/station_information'\n",
    "URL_BICING_STATUS = 'https://api.bsmsa.eu/ext/api/bsm/gbfs/v2/en/station_status'\n",
    "#URL_BICING = 'https://www.bicing.barcelona/get-stations'\n"
   ]
  },
  {
   "cell_type": "code",
   "execution_count": 159,
   "metadata": {},
   "outputs": [],
   "source": [
    "# Funcions\n",
    "\n",
    "def get_data(url, filename):\n",
    "    \"\"\"Descarrega les dades a la carpeta 'datasets'.\"\"\"\n",
    "    try:\n",
    "        urllib.request.urlretrieve(url, WORK_DIR + '/datasets/' + filename)\n",
    "        print(filename + \" descarregat correctament.\")\n",
    "    except:\n",
    "        print(\"Problema descarregant: \" + filename)\n",
    "        \n",
    "def save_data(gdf, filename):\n",
    "    \"\"\"Guarda un geodataframe en format SHP, el comprimeix i el desa a la carpeta 'map'.\"\"\"\n",
    "    gdf.to_file('tmp/' + filename + '.shp')\n",
    "    zf = zipfile.ZipFile('map/' + filename + \".zip\", \"w\", zipfile.ZIP_DEFLATED)\n",
    "    zf.write('tmp/' + filename + \".dbf\")\n",
    "    zf.write('tmp/' + filename + \".shp\")\n",
    "    zf.write('tmp/' + filename + \".prj\")\n",
    "    zf.write('tmp/' + filename + \".shx\")\n",
    "    zf.write('tmp/' + filename + \".cpg\")\n",
    "    zf.close()\n",
    "    print(filename + ' guardat correctament.')"
   ]
  },
  {
   "cell_type": "markdown",
   "metadata": {},
   "source": [
    "## Punts d'ancoratge"
   ]
  },
  {
   "cell_type": "code",
   "execution_count": 160,
   "metadata": {},
   "outputs": [
    {
     "name": "stdout",
     "output_type": "stream",
     "text": [
      "ancoratge.xml descarregat correctament.\n"
     ]
    }
   ],
   "source": [
    "get_data(URL_PUNTS_ANC, 'ancoratge.xml')\n",
    "tree = ET.parse('datasets/ancoratge.xml')\n",
    "root = tree.getroot()"
   ]
  },
  {
   "cell_type": "code",
   "execution_count": 161,
   "metadata": {},
   "outputs": [],
   "source": [
    "rows = []\n",
    "for row in root.findall('.//row'):\n",
    "    item = row.find(\"item\")\n",
    "    \n",
    "    # Address\n",
    "    address = ''\n",
    "    if ET.iselement(item.find(\"address\")):\n",
    "        address = item.find(\"address\").text\n",
    "    \n",
    "    # Coords\n",
    "    lat = item.find(\"gmapx\").text\n",
    "    lon = item.find(\"gmapy\").text\n",
    "        \n",
    "    rows.append({'address':address, 'lat':lat, 'lon':lon})\n",
    "\n",
    "punts_ancoratge = pd.DataFrame(rows)"
   ]
  },
  {
   "cell_type": "code",
   "execution_count": 162,
   "metadata": {},
   "outputs": [
    {
     "data": {
      "text/html": [
       "<div>\n",
       "<style scoped>\n",
       "    .dataframe tbody tr th:only-of-type {\n",
       "        vertical-align: middle;\n",
       "    }\n",
       "\n",
       "    .dataframe tbody tr th {\n",
       "        vertical-align: top;\n",
       "    }\n",
       "\n",
       "    .dataframe thead th {\n",
       "        text-align: right;\n",
       "    }\n",
       "</style>\n",
       "<table border=\"1\" class=\"dataframe\">\n",
       "  <thead>\n",
       "    <tr style=\"text-align: right;\">\n",
       "      <th></th>\n",
       "      <th>address</th>\n",
       "      <th>lat</th>\n",
       "      <th>lon</th>\n",
       "    </tr>\n",
       "  </thead>\n",
       "  <tbody>\n",
       "    <tr>\n",
       "      <th>0</th>\n",
       "      <td>C Torrent de l'Olla 183</td>\n",
       "      <td>41.405483</td>\n",
       "      <td>2.1533217</td>\n",
       "    </tr>\n",
       "    <tr>\n",
       "      <th>1</th>\n",
       "      <td>C Riera de Sant Miquel 49</td>\n",
       "      <td>41.398388</td>\n",
       "      <td>2.1556406</td>\n",
       "    </tr>\n",
       "    <tr>\n",
       "      <th>2</th>\n",
       "      <td>C Vic 25</td>\n",
       "      <td>41.399277</td>\n",
       "      <td>2.1547012</td>\n",
       "    </tr>\n",
       "    <tr>\n",
       "      <th>3</th>\n",
       "      <td>Trav Gràcia 115</td>\n",
       "      <td>41.399246</td>\n",
       "      <td>2.154404</td>\n",
       "    </tr>\n",
       "    <tr>\n",
       "      <th>4</th>\n",
       "      <td>C Luis Antúnez 1</td>\n",
       "      <td>41.39898</td>\n",
       "      <td>2.1562505</td>\n",
       "    </tr>\n",
       "  </tbody>\n",
       "</table>\n",
       "</div>"
      ],
      "text/plain": [
       "                     address        lat        lon\n",
       "0    C Torrent de l'Olla 183  41.405483  2.1533217\n",
       "1  C Riera de Sant Miquel 49  41.398388  2.1556406\n",
       "2                   C Vic 25  41.399277  2.1547012\n",
       "3            Trav Gràcia 115  41.399246   2.154404\n",
       "4           C Luis Antúnez 1   41.39898  2.1562505"
      ]
     },
     "execution_count": 162,
     "metadata": {},
     "output_type": "execute_result"
    }
   ],
   "source": [
    "punts_ancoratge.head()"
   ]
  },
  {
   "cell_type": "code",
   "execution_count": 163,
   "metadata": {},
   "outputs": [
    {
     "name": "stdout",
     "output_type": "stream",
     "text": [
      "PUNTS_ANCORATGE guardat correctament.\n"
     ]
    }
   ],
   "source": [
    "# Creació geodataframe\n",
    "punts_ancoratge = gpd.GeoDataFrame(punts_ancoratge,\n",
    "                                   geometry = gpd.points_from_xy(punts_ancoratge.lon, punts_ancoratge.lat))\n",
    "\n",
    "# Conversió del sistema de referència espacial\n",
    "punts_ancoratge = punts_ancoratge.set_crs('EPSG:4326')\n",
    "punts_ancoratge.to_crs('EPSG:25831')\n",
    "\n",
    "# Exportació dades\n",
    "save_data(punts_ancoratge, 'PUNTS_ANCORATGE')"
   ]
  },
  {
   "cell_type": "markdown",
   "metadata": {},
   "source": [
    "## Serveis"
   ]
  },
  {
   "cell_type": "code",
   "execution_count": 164,
   "metadata": {},
   "outputs": [
    {
     "name": "stdout",
     "output_type": "stream",
     "text": [
      "serveis.xml descarregat correctament.\n"
     ]
    }
   ],
   "source": [
    "# Captura i parsejament de dades\n",
    "\n",
    "get_data(URL_SERVEIS, 'serveis.xml')\n",
    "tree = ET.parse('datasets/serveis.xml')\n",
    "root = tree.getroot()\n",
    "\n",
    "rows = []\n",
    "for row in root.findall('.//row'):\n",
    "    item = row.find(\"item\")\n",
    "    \n",
    "    # Name\n",
    "    name = item.find(\"name\").text\n",
    "    \n",
    "    # Address\n",
    "    address = ''\n",
    "    if ET.iselement(item.find(\"address\")):\n",
    "        address = item.find(\"address\").text\n",
    "    \n",
    "    # Coords\n",
    "    lat = item.find(\"gmapx\").text\n",
    "    lon = item.find(\"gmapy\").text\n",
    "    \n",
    "    # Web\n",
    "    web = ''\n",
    "    if ET.iselement(item.find(\"code_url\")):\n",
    "        web = item.find(\"code_url\").text\n",
    "\n",
    "    # Phone\n",
    "    phone = ''\n",
    "    if ET.iselement(item.find(\"phonenumber\")):\n",
    "        phone = item.find(\"phonenumber\").text\n",
    "        \n",
    "    rows.append({'name':name, 'address':address, 'lat':lat, 'lon':lon, 'web': web, 'phone': phone})\n",
    "\n",
    "serveis = pd.DataFrame(rows)"
   ]
  },
  {
   "cell_type": "code",
   "execution_count": 165,
   "metadata": {
    "scrolled": true
   },
   "outputs": [
    {
     "data": {
      "text/html": [
       "<div>\n",
       "<style scoped>\n",
       "    .dataframe tbody tr th:only-of-type {\n",
       "        vertical-align: middle;\n",
       "    }\n",
       "\n",
       "    .dataframe tbody tr th {\n",
       "        vertical-align: top;\n",
       "    }\n",
       "\n",
       "    .dataframe thead th {\n",
       "        text-align: right;\n",
       "    }\n",
       "</style>\n",
       "<table border=\"1\" class=\"dataframe\">\n",
       "  <thead>\n",
       "    <tr style=\"text-align: right;\">\n",
       "      <th></th>\n",
       "      <th>name</th>\n",
       "      <th>address</th>\n",
       "      <th>lat</th>\n",
       "      <th>lon</th>\n",
       "      <th>web</th>\n",
       "      <th>phone</th>\n",
       "    </tr>\n",
       "  </thead>\n",
       "  <tbody>\n",
       "    <tr>\n",
       "      <th>0</th>\n",
       "      <td>Pura Vida Rickshaw Tours</td>\n",
       "      <td>C Lafont 19</td>\n",
       "      <td>41.372757</td>\n",
       "      <td>2.1689</td>\n",
       "      <td>www.puravida.barcelona</td>\n",
       "      <td>931823930</td>\n",
       "    </tr>\n",
       "    <tr>\n",
       "      <th>1</th>\n",
       "      <td>Roda Lliure</td>\n",
       "      <td>C Consell de Cent 595</td>\n",
       "      <td>41.405415</td>\n",
       "      <td>2.184575</td>\n",
       "      <td></td>\n",
       "      <td>673 475 560</td>\n",
       "    </tr>\n",
       "    <tr>\n",
       "      <th>2</th>\n",
       "      <td>BiciHub *Can Picó</td>\n",
       "      <td>C Pere IV 58</td>\n",
       "      <td>41.395824</td>\n",
       "      <td>2.1921685</td>\n",
       "      <td>bicihub.barcelona</td>\n",
       "      <td>685 86 50 56</td>\n",
       "    </tr>\n",
       "    <tr>\n",
       "      <th>3</th>\n",
       "      <td>Barcelona Cycle Co</td>\n",
       "      <td>C Vigatans 2</td>\n",
       "      <td>41.384026</td>\n",
       "      <td>2.1796567</td>\n",
       "      <td></td>\n",
       "      <td>933 153 259</td>\n",
       "    </tr>\n",
       "    <tr>\n",
       "      <th>4</th>\n",
       "      <td>Bikes Barcelona rental</td>\n",
       "      <td>C Marina 138</td>\n",
       "      <td>41.397278</td>\n",
       "      <td>2.1840746</td>\n",
       "      <td>www.bikesbarcelonarental.es</td>\n",
       "      <td>674 60 06 74</td>\n",
       "    </tr>\n",
       "  </tbody>\n",
       "</table>\n",
       "</div>"
      ],
      "text/plain": [
       "                       name                address        lat        lon  \\\n",
       "0  Pura Vida Rickshaw Tours            C Lafont 19  41.372757     2.1689   \n",
       "1               Roda Lliure  C Consell de Cent 595  41.405415   2.184575   \n",
       "2         BiciHub *Can Picó           C Pere IV 58  41.395824  2.1921685   \n",
       "3        Barcelona Cycle Co           C Vigatans 2  41.384026  2.1796567   \n",
       "4    Bikes Barcelona rental           C Marina 138  41.397278  2.1840746   \n",
       "\n",
       "                           web         phone  \n",
       "0       www.puravida.barcelona     931823930  \n",
       "1                                673 475 560  \n",
       "2            bicihub.barcelona  685 86 50 56  \n",
       "3                                933 153 259  \n",
       "4  www.bikesbarcelonarental.es  674 60 06 74  "
      ]
     },
     "execution_count": 165,
     "metadata": {},
     "output_type": "execute_result"
    }
   ],
   "source": [
    "serveis.head()"
   ]
  },
  {
   "cell_type": "code",
   "execution_count": 166,
   "metadata": {},
   "outputs": [
    {
     "name": "stdout",
     "output_type": "stream",
     "text": [
      "SERVEIS guardat correctament.\n"
     ]
    }
   ],
   "source": [
    "# Creació geodataframe\n",
    "serveis = gpd.GeoDataFrame(serveis, geometry = gpd.points_from_xy(serveis.lon, serveis.lat))\n",
    "\n",
    "# Conversió del sistema de referència espacial\n",
    "serveis = serveis.set_crs('EPSG:4326')\n",
    "serveis.to_crs('EPSG:25831')\n",
    "\n",
    "# Exportació dades\n",
    "save_data(serveis, 'SERVEIS')"
   ]
  },
  {
   "cell_type": "markdown",
   "metadata": {},
   "source": [
    "## Bicing"
   ]
  },
  {
   "cell_type": "code",
   "execution_count": 142,
   "metadata": {
    "scrolled": true
   },
   "outputs": [],
   "source": [
    "# Captura dades\n",
    "\n",
    "# Informació de les estacions\n",
    "with urllib.request.urlopen(URL_BICING_INFO) as url:\n",
    "    data = json.loads(url.read().decode())\n",
    "\n",
    "bicing_info = pd.DataFrame(data['data']['stations'])\n",
    "\n",
    "# Informació de l'estat de les estacions\n",
    "with urllib.request.urlopen(URL_BICING_STATUS) as url:\n",
    "    data = json.loads(url.read().decode())\n",
    "\n",
    "bicing_status = pd.DataFrame(data['data']['stations'])"
   ]
  },
  {
   "cell_type": "code",
   "execution_count": 143,
   "metadata": {},
   "outputs": [
    {
     "data": {
      "text/html": [
       "<div>\n",
       "<style scoped>\n",
       "    .dataframe tbody tr th:only-of-type {\n",
       "        vertical-align: middle;\n",
       "    }\n",
       "\n",
       "    .dataframe tbody tr th {\n",
       "        vertical-align: top;\n",
       "    }\n",
       "\n",
       "    .dataframe thead th {\n",
       "        text-align: right;\n",
       "    }\n",
       "</style>\n",
       "<table border=\"1\" class=\"dataframe\">\n",
       "  <thead>\n",
       "    <tr style=\"text-align: right;\">\n",
       "      <th></th>\n",
       "      <th>station_id</th>\n",
       "      <th>name</th>\n",
       "      <th>lat</th>\n",
       "      <th>lon</th>\n",
       "      <th>altitude</th>\n",
       "      <th>address</th>\n",
       "      <th>capacity</th>\n",
       "      <th>num_bikes_available</th>\n",
       "      <th>status</th>\n",
       "      <th>geometry</th>\n",
       "    </tr>\n",
       "  </thead>\n",
       "  <tbody>\n",
       "    <tr>\n",
       "      <th>0</th>\n",
       "      <td>1</td>\n",
       "      <td>GRAN VIA CORTS CATALANES, 760</td>\n",
       "      <td>41.397978</td>\n",
       "      <td>2.180107</td>\n",
       "      <td>16.0</td>\n",
       "      <td>GRAN VIA CORTS CATALANES, 760</td>\n",
       "      <td>46</td>\n",
       "      <td>8</td>\n",
       "      <td>IN_SERVICE</td>\n",
       "      <td>POINT (2.18011 41.39798)</td>\n",
       "    </tr>\n",
       "    <tr>\n",
       "      <th>1</th>\n",
       "      <td>2</td>\n",
       "      <td>C/ ROGER DE FLOR, 126</td>\n",
       "      <td>41.395488</td>\n",
       "      <td>2.177198</td>\n",
       "      <td>17.0</td>\n",
       "      <td>C/ ROGER DE FLOR, 126</td>\n",
       "      <td>27</td>\n",
       "      <td>2</td>\n",
       "      <td>IN_SERVICE</td>\n",
       "      <td>POINT (2.17720 41.39549)</td>\n",
       "    </tr>\n",
       "    <tr>\n",
       "      <th>2</th>\n",
       "      <td>3</td>\n",
       "      <td>C/ NÀPOLS, 82</td>\n",
       "      <td>41.394156</td>\n",
       "      <td>2.181331</td>\n",
       "      <td>11.0</td>\n",
       "      <td>C/ NÀPOLS, 82</td>\n",
       "      <td>27</td>\n",
       "      <td>10</td>\n",
       "      <td>IN_SERVICE</td>\n",
       "      <td>POINT (2.18133 41.39416)</td>\n",
       "    </tr>\n",
       "    <tr>\n",
       "      <th>3</th>\n",
       "      <td>4</td>\n",
       "      <td>C/ RIBES, 13</td>\n",
       "      <td>41.393317</td>\n",
       "      <td>2.181248</td>\n",
       "      <td>8.0</td>\n",
       "      <td>C/ RIBES, 13</td>\n",
       "      <td>21</td>\n",
       "      <td>2</td>\n",
       "      <td>IN_SERVICE</td>\n",
       "      <td>POINT (2.18125 41.39332)</td>\n",
       "    </tr>\n",
       "    <tr>\n",
       "      <th>4</th>\n",
       "      <td>5</td>\n",
       "      <td>PG. LLUIS COMPANYS, 11 (ARC TRIOMF)</td>\n",
       "      <td>41.391103</td>\n",
       "      <td>2.180176</td>\n",
       "      <td>7.0</td>\n",
       "      <td>PG. LLUIS COMPANYS, 11 (ARC TRIOMF)</td>\n",
       "      <td>39</td>\n",
       "      <td>5</td>\n",
       "      <td>IN_SERVICE</td>\n",
       "      <td>POINT (2.18018 41.39110)</td>\n",
       "    </tr>\n",
       "  </tbody>\n",
       "</table>\n",
       "</div>"
      ],
      "text/plain": [
       "   station_id                                 name        lat       lon  \\\n",
       "0           1        GRAN VIA CORTS CATALANES, 760  41.397978  2.180107   \n",
       "1           2                C/ ROGER DE FLOR, 126  41.395488  2.177198   \n",
       "2           3                        C/ NÀPOLS, 82  41.394156  2.181331   \n",
       "3           4                         C/ RIBES, 13  41.393317  2.181248   \n",
       "4           5  PG. LLUIS COMPANYS, 11 (ARC TRIOMF)  41.391103  2.180176   \n",
       "\n",
       "   altitude                              address  capacity  \\\n",
       "0      16.0        GRAN VIA CORTS CATALANES, 760        46   \n",
       "1      17.0                C/ ROGER DE FLOR, 126        27   \n",
       "2      11.0                        C/ NÀPOLS, 82        27   \n",
       "3       8.0                         C/ RIBES, 13        21   \n",
       "4       7.0  PG. LLUIS COMPANYS, 11 (ARC TRIOMF)        39   \n",
       "\n",
       "   num_bikes_available      status                  geometry  \n",
       "0                    8  IN_SERVICE  POINT (2.18011 41.39798)  \n",
       "1                    2  IN_SERVICE  POINT (2.17720 41.39549)  \n",
       "2                   10  IN_SERVICE  POINT (2.18133 41.39416)  \n",
       "3                    2  IN_SERVICE  POINT (2.18125 41.39332)  \n",
       "4                    5  IN_SERVICE  POINT (2.18018 41.39110)  "
      ]
     },
     "execution_count": 143,
     "metadata": {},
     "output_type": "execute_result"
    }
   ],
   "source": [
    "# Unim dades d'informació i estat\n",
    "bicing_stations = pd.merge(bicing_info, bicing_status, on='station_id')\n",
    "\n",
    "# Seleccionem columnes\n",
    "COLUMNS = ['station_id','name','lat','lon','altitude','address','capacity','num_bikes_available','status']\n",
    "bicing_stations = bicing_stations[COLUMNS]\n",
    "\n",
    "# Generem un geodataframe\n",
    "bicing = gpd.GeoDataFrame(bicing_stations, geometry = gpd.points_from_xy(bicing_stations.lon, bicing_stations.lat))\n",
    "\n",
    "# Conversió del sistema de referència espacial\n",
    "bicing = bicing.set_crs('EPSG:4326')\n",
    "bicing.to_crs('EPSG:25831')\n",
    "\n",
    "bicing.head()"
   ]
  },
  {
   "cell_type": "code",
   "execution_count": 25,
   "metadata": {},
   "outputs": [
    {
     "name": "stdout",
     "output_type": "stream",
     "text": [
      "BICING guardat correctament.\n"
     ]
    }
   ],
   "source": [
    "save_data(bicing, 'BICING')"
   ]
  }
 ],
 "metadata": {
  "kernelspec": {
   "display_name": "Python 3",
   "language": "python",
   "name": "python3"
  },
  "language_info": {
   "codemirror_mode": {
    "name": "ipython",
    "version": 3
   },
   "file_extension": ".py",
   "mimetype": "text/x-python",
   "name": "python",
   "nbconvert_exporter": "python",
   "pygments_lexer": "ipython3",
   "version": "3.7.6"
  }
 },
 "nbformat": 4,
 "nbformat_minor": 4
}
