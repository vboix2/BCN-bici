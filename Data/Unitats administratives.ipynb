{
 "cells": [
  {
   "cell_type": "markdown",
   "metadata": {},
   "source": [
    "## Preparació"
   ]
  },
  {
   "cell_type": "code",
   "execution_count": 7,
   "metadata": {},
   "outputs": [],
   "source": [
    "# Paquets\n",
    "\n",
    "import pandas as pd\n",
    "import geopandas as gpd\n",
    "import zipfile\n",
    "import urllib.request\n",
    "import os"
   ]
  },
  {
   "cell_type": "code",
   "execution_count": 8,
   "metadata": {},
   "outputs": [],
   "source": [
    "# Paràmetres\n",
    "\n",
    "# Directori de treball\n",
    "WORK_DIR = os.path.abspath(os.getcwd())\n",
    "\n",
    "# Directoris\n",
    "if not os.path.exists('downloads'):\n",
    "    os.makedirs('downloads')\n",
    "if not os.path.exists('datasets'):\n",
    "    os.makedirs('datasets')\n",
    "\n",
    "# Enllaços de descàrrega\n",
    "URL_UNITATS_ADM = 'https://opendata-ajuntament.barcelona.cat/data/dataset/808daafa-d9ce-48c0-925a-fa5afdb1ed41/resource/11851135-6919-4dcb-91ed-821e5e87a428/download'\n"
   ]
  },
  {
   "cell_type": "code",
   "execution_count": 9,
   "metadata": {},
   "outputs": [],
   "source": [
    "# Funcions\n",
    "\n",
    "def get_data(url, filename):\n",
    "    \"\"\"Descarrega i descomprimeix les dades a la carpeta 'datasets'.\"\"\"\n",
    "    try:\n",
    "        urllib.request.urlretrieve(url, WORK_DIR + '/downloads/' + filename + '.zip')\n",
    "        zf = zipfile.ZipFile('downloads/' + filename + \".zip\")\n",
    "        zf.extractall(path = 'datasets/' + filename)\n",
    "        print(filename + \" descarregat correctament.\")\n",
    "    except:\n",
    "        print(\"Problema descarregant: \" + filename)"
   ]
  },
  {
   "cell_type": "markdown",
   "metadata": {},
   "source": [
    "## Districtes de Barcelona"
   ]
  },
  {
   "cell_type": "code",
   "execution_count": 35,
   "metadata": {},
   "outputs": [
    {
     "name": "stdout",
     "output_type": "stream",
     "text": [
      "UNITATS_ADM descarregat correctament.\n"
     ]
    }
   ],
   "source": [
    "# Captura i lectura de dades\n",
    "get_data(URL_UNITATS_ADM, 'UNITATS_ADM')\n",
    "unitats_adm = gpd.read_file('datasets/UNITATS_ADM/0301040100_Districtes_UNITATS_ADM.shp')\n",
    "\n",
    "# Selecció atributs\n",
    "unitats_adm = unitats_adm.loc[:,['NOM','geometry']].rename(columns={'NOM': 'districte'})\n",
    "\n",
    "# Correcció noms\n",
    "unitats_adm.districte = pd.Series(['Ciutat Vella', 'Eixample', 'Sants-Montjuïc', 'Les Corts', 'Sarrià-Sant Gervasi', 'Gràcia',\n",
    "                  'Horta-Guinardó', 'Nou Barris', 'Sant Andreu' , 'Sant Martí'])"
   ]
  },
  {
   "cell_type": "code",
   "execution_count": 36,
   "metadata": {},
   "outputs": [
    {
     "data": {
      "text/html": [
       "<div>\n",
       "<style scoped>\n",
       "    .dataframe tbody tr th:only-of-type {\n",
       "        vertical-align: middle;\n",
       "    }\n",
       "\n",
       "    .dataframe tbody tr th {\n",
       "        vertical-align: top;\n",
       "    }\n",
       "\n",
       "    .dataframe thead th {\n",
       "        text-align: right;\n",
       "    }\n",
       "</style>\n",
       "<table border=\"1\" class=\"dataframe\">\n",
       "  <thead>\n",
       "    <tr style=\"text-align: right;\">\n",
       "      <th></th>\n",
       "      <th>districte</th>\n",
       "      <th>geometry</th>\n",
       "    </tr>\n",
       "  </thead>\n",
       "  <tbody>\n",
       "    <tr>\n",
       "      <th>0</th>\n",
       "      <td>Ciutat Vella</td>\n",
       "      <td>POLYGON ((431733.736 4582441.816, 431827.673 4...</td>\n",
       "    </tr>\n",
       "    <tr>\n",
       "      <th>1</th>\n",
       "      <td>Eixample</td>\n",
       "      <td>POLYGON ((432033.184 4583665.032, 432032.069 4...</td>\n",
       "    </tr>\n",
       "    <tr>\n",
       "      <th>2</th>\n",
       "      <td>Sants-Montjuïc</td>\n",
       "      <td>MULTIPOLYGON (((428773.911 4580873.742, 428833...</td>\n",
       "    </tr>\n",
       "    <tr>\n",
       "      <th>3</th>\n",
       "      <td>Les Corts</td>\n",
       "      <td>POLYGON ((425054.670 4583672.560, 425062.830 4...</td>\n",
       "    </tr>\n",
       "    <tr>\n",
       "      <th>4</th>\n",
       "      <td>Sarrià-Sant Gervasi</td>\n",
       "      <td>MULTIPOLYGON (((422563.071 4587486.743, 422568...</td>\n",
       "    </tr>\n",
       "  </tbody>\n",
       "</table>\n",
       "</div>"
      ],
      "text/plain": [
       "             districte                                           geometry\n",
       "0         Ciutat Vella  POLYGON ((431733.736 4582441.816, 431827.673 4...\n",
       "1             Eixample  POLYGON ((432033.184 4583665.032, 432032.069 4...\n",
       "2       Sants-Montjuïc  MULTIPOLYGON (((428773.911 4580873.742, 428833...\n",
       "3            Les Corts  POLYGON ((425054.670 4583672.560, 425062.830 4...\n",
       "4  Sarrià-Sant Gervasi  MULTIPOLYGON (((422563.071 4587486.743, 422568..."
      ]
     },
     "execution_count": 36,
     "metadata": {},
     "output_type": "execute_result"
    }
   ],
   "source": [
    "unitats_adm.head()"
   ]
  },
  {
   "cell_type": "code",
   "execution_count": 37,
   "metadata": {
    "scrolled": true
   },
   "outputs": [],
   "source": [
    "# Exportació de dades\n",
    "\n",
    "if not os.path.exists('datasets/DISTRICTES'):\n",
    "    os.makedirs('datasets/DISTRICTES')\n",
    "unitats_adm.to_file('datasets/DISTRICTES/DISTRICTES.shp')"
   ]
  }
 ],
 "metadata": {
  "kernelspec": {
   "display_name": "Python 3",
   "language": "python",
   "name": "python3"
  },
  "language_info": {
   "codemirror_mode": {
    "name": "ipython",
    "version": 3
   },
   "file_extension": ".py",
   "mimetype": "text/x-python",
   "name": "python",
   "nbconvert_exporter": "python",
   "pygments_lexer": "ipython3",
   "version": "3.7.6"
  }
 },
 "nbformat": 4,
 "nbformat_minor": 4
}
