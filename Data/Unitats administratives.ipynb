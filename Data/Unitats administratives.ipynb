{
 "cells": [
  {
   "cell_type": "markdown",
   "metadata": {},
   "source": [
    "## Preparació"
   ]
  },
  {
   "cell_type": "code",
   "execution_count": 1,
   "metadata": {},
   "outputs": [],
   "source": [
    "# Paquets\n",
    "\n",
    "import pandas as pd\n",
    "import geopandas as gpd\n",
    "import zipfile\n",
    "import urllib.request\n",
    "import os"
   ]
  },
  {
   "cell_type": "code",
   "execution_count": 2,
   "metadata": {},
   "outputs": [],
   "source": [
    "# Paràmetres\n",
    "\n",
    "# Directori de treball\n",
    "WORK_DIR = os.path.abspath(os.getcwd())\n",
    "\n",
    "# Directoris\n",
    "if not os.path.exists('downloads'):\n",
    "    os.makedirs('downloads')\n",
    "if not os.path.exists('datasets'):\n",
    "    os.makedirs('datasets')\n",
    "\n",
    "# Enllaços de descàrrega\n",
    "URL_UNITATS_ADM = 'https://opendata-ajuntament.barcelona.cat/data/dataset/808daafa-d9ce-48c0-925a-fa5afdb1ed41/resource/11851135-6919-4dcb-91ed-821e5e87a428/download'\n"
   ]
  },
  {
   "cell_type": "code",
   "execution_count": 3,
   "metadata": {},
   "outputs": [],
   "source": [
    "# Funcions\n",
    "\n",
    "def get_data(url, filename):\n",
    "    \"\"\"Descarrega i descomprimeix les dades a la carpeta 'datasets'.\"\"\"\n",
    "    try:\n",
    "        urllib.request.urlretrieve(url, WORK_DIR + '/downloads/' + filename + '.zip')\n",
    "        zf = zipfile.ZipFile('downloads/' + filename + \".zip\")\n",
    "        zf.extractall(path = 'datasets/' + filename)\n",
    "        print(filename + \" descarregat correctament.\")\n",
    "    except:\n",
    "        print(\"Problema descarregant: \" + filename)"
   ]
  },
  {
   "cell_type": "markdown",
   "metadata": {},
   "source": [
    "## Districtes de Barcelona"
   ]
  },
  {
   "cell_type": "code",
   "execution_count": 4,
   "metadata": {},
   "outputs": [
    {
     "name": "stdout",
     "output_type": "stream",
     "text": [
      "UNITATS_ADM descarregat correctament.\n"
     ]
    }
   ],
   "source": [
    "# Captura i lectura de dades\n",
    "\n",
    "get_data(URL_UNITATS_ADM, 'UNITATS_ADM')\n",
    "unitats_adm = gpd.read_file('datasets/UNITATS_ADM/0301040100_Districtes_UNITATS_ADM.shp')"
   ]
  },
  {
   "cell_type": "code",
   "execution_count": 7,
   "metadata": {},
   "outputs": [],
   "source": [
    "# Preprocessament\n",
    "\n",
    "# Selecció atributs\n",
    "unitats_adm = unitats_adm.loc[:,['geometry','NOM']]\n",
    "\n",
    "# Correcció noms\n",
    "unitats_adm = unitats_adm.rename(columns={'NOM': 'Districte'})\n",
    "unitats_adm.Districte = ['Ciutat Vella', 'Eixample', 'Sants-Montjuïc', 'Les Corts', 'Sarrià-Sant Gervasi', 'Gràcia',\n",
    "                  'Horta-Guinardó', 'Nou Barris', 'Sant Andreu' , 'Sant Martí']"
   ]
  },
  {
   "cell_type": "code",
   "execution_count": 8,
   "metadata": {
    "scrolled": true
   },
   "outputs": [],
   "source": [
    "# Exportació de dades\n",
    "\n",
    "if not os.path.exists('datasets/DISTRICTES'):\n",
    "    os.makedirs('datasets/DISTRICTES')\n",
    "unitats_adm.to_file('datasets/DISTRICTES/DISTRICTES.shp')"
   ]
  }
 ],
 "metadata": {
  "kernelspec": {
   "display_name": "Python 3",
   "language": "python",
   "name": "python3"
  },
  "language_info": {
   "codemirror_mode": {
    "name": "ipython",
    "version": 3
   },
   "file_extension": ".py",
   "mimetype": "text/x-python",
   "name": "python",
   "nbconvert_exporter": "python",
   "pygments_lexer": "ipython3",
   "version": "3.7.6"
  }
 },
 "nbformat": 4,
 "nbformat_minor": 4
}
