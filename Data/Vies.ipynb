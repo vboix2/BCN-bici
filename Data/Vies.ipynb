{
 "cells": [
  {
   "cell_type": "markdown",
   "metadata": {},
   "source": [
    "## Preparació"
   ]
  },
  {
   "cell_type": "code",
   "execution_count": 1,
   "metadata": {},
   "outputs": [],
   "source": [
    "# Paquets\n",
    "\n",
    "import pandas as pd\n",
    "import geopandas as gpd\n",
    "import zipfile\n",
    "import urllib.request\n",
    "import os"
   ]
  },
  {
   "cell_type": "code",
   "execution_count": 2,
   "metadata": {},
   "outputs": [],
   "source": [
    "# Paràmetres\n",
    "\n",
    "# Directori de treball\n",
    "WORK_DIR = os.path.abspath(os.getcwd())\n",
    "\n",
    "# Directoris\n",
    "if not os.path.exists('downloads'):\n",
    "    os.makedirs('downloads')\n",
    "if not os.path.exists('tmp'):\n",
    "    os.makedirs('tmp')\n",
    "if not os.path.exists('map'):\n",
    "    os.makedirs('map')\n",
    "if not os.path.exists('datasets'):\n",
    "    os.makedirs('datasets')\n",
    "\n",
    "# Enllaços de descàrrega\n",
    "URL_RONDA_VERDA = 'https://opendata-ajuntament.barcelona.cat/data/dataset/18990935-6b67-49d4-9e92-2171d439ee59/resource/9c0a6e3b-ff5b-43ae-83a5-4219ad7e5e12/download'\n",
    "URL_CARRIL_BICI = 'https://opendata-ajuntament.barcelona.cat/data/dataset/e3497ea4-0bae-4093-94a7-119df50a8a74/resource/357d14d1-c312-450d-a900-c15c3160a187/download'\n",
    "URL_CARRIL_BICI_ALTRES_MUNICIPIS = 'https://opendata-ajuntament.barcelona.cat/data/dataset/bcbfe860-7838-468c-b78e-f15d3b9e01f8/resource/b1652bb0-33c1-4c66-81a6-ad46c8504e7e/download'\n",
    "URL_CARRIL_BICI_CONSTRUCCIO = 'https://opendata-ajuntament.barcelona.cat/data/dataset/edee68e3-5ff1-43d0-b556-12c5d8eb019e/resource/3535ae40-e365-42be-adcf-3a5301948e0b/download'\n",
    "URL_VIES_CICLABLES = 'https://opendata-ajuntament.barcelona.cat/data/dataset/ae147deb-1b95-4b25-aa3a-b57067f000bc/resource/af4287f7-d1d6-4988-95b0-bf00ff8b31b0/download'\n",
    "URL_ZONES30_CARRERS = 'https://opendata-ajuntament.barcelona.cat/data/dataset/2258826a-67ba-4429-a500-30472ff6251a/resource/4ae49ce7-df4f-4d76-90e5-bd0e08ba1e4e/download'\n",
    "URL_CARRERS_PACIFICATS = 'https://opendata-ajuntament.barcelona.cat/data/dataset/335bceee-7988-4899-b2fa-accba6a917c7/resource/d9f9d46c-d55c-419c-93f6-02b3d26beb00/download'\n",
    "URL_CORREDORS_BICI = 'https://opendata-ajuntament.barcelona.cat/data/dataset/af083278-6873-4a3c-b3d5-68860cc769af/resource/4ee104ac-945e-44c8-8459-b499c9113340/download'\n"
   ]
  },
  {
   "cell_type": "code",
   "execution_count": 3,
   "metadata": {},
   "outputs": [],
   "source": [
    "# Funcions\n",
    "\n",
    "def get_data(url, filename):\n",
    "    \"\"\"Descarrega i descomprimeix les dades a la carpeta 'datasets'.\"\"\"\n",
    "    try:\n",
    "        urllib.request.urlretrieve(url, WORK_DIR + '/downloads/' + filename + '.zip')\n",
    "        zf = zipfile.ZipFile('downloads/' + filename + \".zip\")\n",
    "        zf.extractall(path = 'datasets/' + filename)\n",
    "        print(filename + \" descarregat correctament.\")\n",
    "    except:\n",
    "        print(\"Problema descarregant: \" + filename)\n",
    "        \n",
    "def save_data(gdf, filename):\n",
    "    \"\"\"Guarda un geodataframe en format SHP, el comprimeix i el desa a la carpeta 'map'.\"\"\"\n",
    "    gdf.to_file('tmp/' + filename + '.shp')\n",
    "    zf = zipfile.ZipFile('map/' + filename + \".zip\", \"w\", zipfile.ZIP_DEFLATED)\n",
    "    zf.write('tmp/' + filename + \".dbf\")\n",
    "    zf.write('tmp/' + filename + \".shp\")\n",
    "    zf.write('tmp/' + filename + \".prj\")\n",
    "    zf.write('tmp/' + filename + \".shx\")\n",
    "    zf.write('tmp/' + filename + \".cpg\")\n",
    "    zf.close()\n",
    "    print(filename + ' guardat correctament.')"
   ]
  },
  {
   "cell_type": "code",
   "execution_count": 4,
   "metadata": {
    "scrolled": true
   },
   "outputs": [
    {
     "name": "stdout",
     "output_type": "stream",
     "text": [
      "CARRIL_BICI descarregat correctament.\n",
      "CARRIL_BICI_ALTRES_MUNICIPIS descarregat correctament.\n",
      "CARRIL_BICI_CONSTRUCCIO descarregat correctament.\n",
      "RONDA_VERDA descarregat correctament.\n",
      "VIES_CICLABLES descarregat correctament.\n",
      "ZONES30_CARRERS descarregat correctament.\n",
      "CARRERS_PACIFICATS descarregat correctament.\n",
      "CORREDORS_BICI descarregat correctament.\n"
     ]
    }
   ],
   "source": [
    "# Captura de dades\n",
    "\n",
    "get_data(URL_CARRIL_BICI, 'CARRIL_BICI')\n",
    "get_data(URL_CARRIL_BICI_ALTRES_MUNICIPIS, 'CARRIL_BICI_ALTRES_MUNICIPIS')\n",
    "get_data(URL_CARRIL_BICI_CONSTRUCCIO, 'CARRIL_BICI_CONSTRUCCIO')\n",
    "get_data(URL_RONDA_VERDA, 'RONDA_VERDA')\n",
    "get_data(URL_VIES_CICLABLES, 'VIES_CICLABLES')\n",
    "get_data(URL_ZONES30_CARRERS, 'ZONES30_CARRERS')\n",
    "get_data(URL_CARRERS_PACIFICATS, 'CARRERS_PACIFICATS')\n",
    "get_data(URL_CORREDORS_BICI, 'CORREDORS_BICI')"
   ]
  },
  {
   "cell_type": "code",
   "execution_count": 20,
   "metadata": {},
   "outputs": [],
   "source": [
    "# Districtes de Barcelona\n",
    "\n",
    "districtes = gpd.read_file('datasets/DISTRICTES/DISTRICTES.shp')"
   ]
  },
  {
   "cell_type": "markdown",
   "metadata": {},
   "source": [
    "## Carrils bici\n",
    "\n",
    "* Bidireccional en vorera - Permet la circulació de bicicletes en tots dos sentits de la circulació.  Com a exemples d’aquest tipus de carril, tenim l’avinguda Diagonal, des de Francesc Macià al Palau de Pedralbes, o la Gran Via de les Corts Catalanes des de plaça d'Espanya a l'avinguda del Carrilet.\n",
    "* Unidireccional en vorera - Permet la circulació en un únic sentit. És el que trobem a les tercianes de la Gran Via de les Corts Catalanes, entre la plaça d’Espanya i el carrer d’Aribau, o entre els carrers de Pau Claris i la Marina; i a les tercianes de l'avinguda Diagonal, entre el passeig de Gràcia i Sicília.\n",
    "* Bidireccional en calçada - Permet la circulació de bicicletes en els dos sentits de la marxa. Normalment se situen a l'esquerra de la via en el sentit de la circulació dels altres vehicles (carrers de Calàbria, Marquès de Sentmenat, Urgell, Sicília, Provença, Teodor Llorente, etcètera). D'aquesta manera, el ciclista que circula en sentit contrari al trànsit rodat va més protegit. Aquest tipus de carril també pot estar situat al mig de la via, com per exemple al passeig de Sant Joan o a l’avinguda del Paral·lel.\n",
    "* Unidireccional en calçada - Pot ser en el mateix sentit de la circulació (com les de l’avinguda Diagonal, la plaça de Francesc Macià, el passeig de Gràcia o els carrers Diputació i el Consell de Cent), o en sentit contrari, emprat especialment en carrers bici (30) per permetre la circulació de bicicletes en sentit contrari al propi de la via. És el cas de la carretera de la Bordeta o el carrer de la Jota."
   ]
  },
  {
   "cell_type": "code",
   "execution_count": 76,
   "metadata": {
    "scrolled": true
   },
   "outputs": [
    {
     "data": {
      "text/html": [
       "<div>\n",
       "<style scoped>\n",
       "    .dataframe tbody tr th:only-of-type {\n",
       "        vertical-align: middle;\n",
       "    }\n",
       "\n",
       "    .dataframe tbody tr th {\n",
       "        vertical-align: top;\n",
       "    }\n",
       "\n",
       "    .dataframe thead th {\n",
       "        text-align: right;\n",
       "    }\n",
       "</style>\n",
       "<table border=\"1\" class=\"dataframe\">\n",
       "  <thead>\n",
       "    <tr style=\"text-align: right;\">\n",
       "      <th></th>\n",
       "      <th>ID</th>\n",
       "      <th>geometry</th>\n",
       "      <th>districte</th>\n",
       "      <th>estat</th>\n",
       "      <th>tipus</th>\n",
       "      <th>longitud_km</th>\n",
       "      <th>carrer</th>\n",
       "      <th>sentit</th>\n",
       "    </tr>\n",
       "  </thead>\n",
       "  <tbody>\n",
       "    <tr>\n",
       "      <th>0</th>\n",
       "      <td>GL385918</td>\n",
       "      <td>LINESTRING (431740.496 4581621.167, 431730.787...</td>\n",
       "      <td>Ciutat Vella</td>\n",
       "      <td>Operatiu</td>\n",
       "      <td>Carril bici</td>\n",
       "      <td>0.350060</td>\n",
       "      <td>pg Isabel II</td>\n",
       "      <td>unidireccional</td>\n",
       "    </tr>\n",
       "    <tr>\n",
       "      <th>1</th>\n",
       "      <td>GL385919</td>\n",
       "      <td>LINESTRING (431905.153 4581877.796, 431742.206...</td>\n",
       "      <td>Ciutat Vella</td>\n",
       "      <td>Operatiu</td>\n",
       "      <td>Carril bici</td>\n",
       "      <td>0.303950</td>\n",
       "      <td>av Marques Argentera</td>\n",
       "      <td>bidireccional</td>\n",
       "    </tr>\n",
       "    <tr>\n",
       "      <th>2</th>\n",
       "      <td>GL386975</td>\n",
       "      <td>LINESTRING (430848.948 4582223.397, 430862.281...</td>\n",
       "      <td>Ciutat Vella</td>\n",
       "      <td>Operatiu</td>\n",
       "      <td>Carril bici</td>\n",
       "      <td>0.027979</td>\n",
       "      <td>Pau Claris</td>\n",
       "      <td>unidireccional</td>\n",
       "    </tr>\n",
       "    <tr>\n",
       "      <th>3</th>\n",
       "      <td>GL385890</td>\n",
       "      <td>LINESTRING (430864.796 4580690.341, 430925.261...</td>\n",
       "      <td>Ciutat Vella</td>\n",
       "      <td>Operatiu</td>\n",
       "      <td>Carril bici</td>\n",
       "      <td>0.381726</td>\n",
       "      <td>Portal Sta Madrona muntanya</td>\n",
       "      <td>unidireccional</td>\n",
       "    </tr>\n",
       "    <tr>\n",
       "      <th>4</th>\n",
       "      <td>GL385895</td>\n",
       "      <td>LINESTRING (431027.571 4580848.963, 431047.638...</td>\n",
       "      <td>Ciutat Vella</td>\n",
       "      <td>Operatiu</td>\n",
       "      <td>Carril bici</td>\n",
       "      <td>0.032491</td>\n",
       "      <td>Connexió Drassanes</td>\n",
       "      <td>unidireccional</td>\n",
       "    </tr>\n",
       "  </tbody>\n",
       "</table>\n",
       "</div>"
      ],
      "text/plain": [
       "         ID                                           geometry     districte  \\\n",
       "0  GL385918  LINESTRING (431740.496 4581621.167, 431730.787...  Ciutat Vella   \n",
       "1  GL385919  LINESTRING (431905.153 4581877.796, 431742.206...  Ciutat Vella   \n",
       "2  GL386975  LINESTRING (430848.948 4582223.397, 430862.281...  Ciutat Vella   \n",
       "3  GL385890  LINESTRING (430864.796 4580690.341, 430925.261...  Ciutat Vella   \n",
       "4  GL385895  LINESTRING (431027.571 4580848.963, 431047.638...  Ciutat Vella   \n",
       "\n",
       "      estat        tipus  longitud_km                       carrer  \\\n",
       "0  Operatiu  Carril bici     0.350060                 pg Isabel II   \n",
       "1  Operatiu  Carril bici     0.303950         av Marques Argentera   \n",
       "2  Operatiu  Carril bici     0.027979                   Pau Claris   \n",
       "3  Operatiu  Carril bici     0.381726  Portal Sta Madrona muntanya   \n",
       "4  Operatiu  Carril bici     0.032491           Connexió Drassanes   \n",
       "\n",
       "           sentit  \n",
       "0  unidireccional  \n",
       "1   bidireccional  \n",
       "2  unidireccional  \n",
       "3  unidireccional  \n",
       "4  unidireccional  "
      ]
     },
     "execution_count": 76,
     "metadata": {},
     "output_type": "execute_result"
    }
   ],
   "source": [
    "# Carrils bici de Barcelona\n",
    "\n",
    "# Lectura de dades\n",
    "carril_bici_bcn = gpd.read_file('datasets/CARRIL_BICI/CARRIL_BICI.shp')\n",
    "\n",
    "# Divisió per districtes\n",
    "carril_bici = gpd.clip(carril_bici_bcn, districtes.iloc[0].geometry)\n",
    "carril_bici['districte'] = districtes.iloc[0].Districte\n",
    "\n",
    "for i in range(1, len(districtes)):\n",
    "    tmp = gpd.clip(carril_bici_bcn, districtes.iloc[i].geometry)\n",
    "    tmp['districte'] = districtes.iloc[i].Districte\n",
    "    carril_bici = carril_bici.append(tmp, ignore_index=True)\n",
    "    \n",
    "# Creació i selecció d'atributs\n",
    "carril_bici['estat'] = 'Operatiu'\n",
    "carril_bici['tipus'] = 'Carril bici'\n",
    "carril_bici['longitud_km'] = carril_bici.length / 1000\n",
    "carril_bici['TOOLTIP'] = carril_bici['TOOLTIP'].apply(lambda x: x[12:].split(' ',1))\n",
    "carril_bici['carrer'] = carril_bici['TOOLTIP'].apply(lambda x: x[1])\n",
    "carril_bici['sentit'] = carril_bici['TOOLTIP'].apply(lambda x: x[0])\n",
    "\n",
    "carril_bici.drop(columns=['CODI_CAPA','CODI_SUBCA','TOOLTIP'], inplace=True)\n",
    "\n",
    "\n",
    "carril_bici.head(3)"
   ]
  },
  {
   "cell_type": "code",
   "execution_count": 77,
   "metadata": {},
   "outputs": [
    {
     "data": {
      "text/html": [
       "<div>\n",
       "<style scoped>\n",
       "    .dataframe tbody tr th:only-of-type {\n",
       "        vertical-align: middle;\n",
       "    }\n",
       "\n",
       "    .dataframe tbody tr th {\n",
       "        vertical-align: top;\n",
       "    }\n",
       "\n",
       "    .dataframe thead th {\n",
       "        text-align: right;\n",
       "    }\n",
       "</style>\n",
       "<table border=\"1\" class=\"dataframe\">\n",
       "  <thead>\n",
       "    <tr style=\"text-align: right;\">\n",
       "      <th></th>\n",
       "      <th>ID</th>\n",
       "      <th>geometry</th>\n",
       "      <th>districte</th>\n",
       "      <th>estat</th>\n",
       "      <th>tipus</th>\n",
       "      <th>longitud_km</th>\n",
       "      <th>carrer</th>\n",
       "      <th>sentit</th>\n",
       "    </tr>\n",
       "  </thead>\n",
       "  <tbody>\n",
       "    <tr>\n",
       "      <th>0</th>\n",
       "      <td>GL385847</td>\n",
       "      <td>LINESTRING (425738.483 4575492.044, 425716.295...</td>\n",
       "      <td>Altres municipis</td>\n",
       "      <td>Operatiu</td>\n",
       "      <td>Carril bici (altres municipis)</td>\n",
       "      <td>3.169390</td>\n",
       "      <td>El Prat 1</td>\n",
       "      <td></td>\n",
       "    </tr>\n",
       "    <tr>\n",
       "      <th>1</th>\n",
       "      <td>GL385817</td>\n",
       "      <td>LINESTRING (435172.426 4585026.889, 434294.111...</td>\n",
       "      <td>Altres municipis</td>\n",
       "      <td>Operatiu</td>\n",
       "      <td>Carril bici (altres municipis)</td>\n",
       "      <td>2.003901</td>\n",
       "      <td>Sant Ramón de Penyafort</td>\n",
       "      <td></td>\n",
       "    </tr>\n",
       "    <tr>\n",
       "      <th>2</th>\n",
       "      <td>GL385729</td>\n",
       "      <td>LINESTRING (424165.971 4574543.752, 424170.360...</td>\n",
       "      <td>Altres municipis</td>\n",
       "      <td>Operatiu</td>\n",
       "      <td>Carril bici (altres municipis)</td>\n",
       "      <td>0.858088</td>\n",
       "      <td>Aeroport 6</td>\n",
       "      <td></td>\n",
       "    </tr>\n",
       "  </tbody>\n",
       "</table>\n",
       "</div>"
      ],
      "text/plain": [
       "         ID                                           geometry  \\\n",
       "0  GL385847  LINESTRING (425738.483 4575492.044, 425716.295...   \n",
       "1  GL385817  LINESTRING (435172.426 4585026.889, 434294.111...   \n",
       "2  GL385729  LINESTRING (424165.971 4574543.752, 424170.360...   \n",
       "\n",
       "          districte     estat                           tipus  longitud_km  \\\n",
       "0  Altres municipis  Operatiu  Carril bici (altres municipis)     3.169390   \n",
       "1  Altres municipis  Operatiu  Carril bici (altres municipis)     2.003901   \n",
       "2  Altres municipis  Operatiu  Carril bici (altres municipis)     0.858088   \n",
       "\n",
       "                    carrer sentit  \n",
       "0                El Prat 1         \n",
       "1  Sant Ramón de Penyafort         \n",
       "2               Aeroport 6         "
      ]
     },
     "execution_count": 77,
     "metadata": {},
     "output_type": "execute_result"
    }
   ],
   "source": [
    "# Carrils bici d'altres municipis\n",
    "\n",
    "# Lectura de dades\n",
    "carril_bici_altres = gpd.read_file('datasets/CARRIL_BICI_ALTRES_MUNICIPIS/CARRIL_BICI_ALTRES_MUNICIPIS.shp')\n",
    "\n",
    "# Creació i selecció d'atributs\n",
    "carril_bici_altres['districte'] = 'Altres municipis'\n",
    "carril_bici_altres['estat'] = 'Operatiu'\n",
    "carril_bici_altres['tipus'] = 'Carril bici (altres municipis)'\n",
    "carril_bici_altres['longitud_km'] = carril_bici_altres.length / 1000\n",
    "carril_bici_altres['carrer'] = carril_bici_altres['TOOLTIP'].apply(lambda x: x[29:])\n",
    "carril_bici_altres['sentit'] = ''\n",
    "carril_bici_altres.drop(columns=['CODI_CAPA','CODI_SUBCA', 'TOOLTIP'], inplace=True)\n",
    "\n",
    "# Unió dades\n",
    "carril_bici = carril_bici.append(carril_bici_altres, ignore_index=True)\n",
    "\n",
    "carril_bici_altres.head(3)"
   ]
  },
  {
   "cell_type": "code",
   "execution_count": 78,
   "metadata": {},
   "outputs": [
    {
     "data": {
      "text/html": [
       "<div>\n",
       "<style scoped>\n",
       "    .dataframe tbody tr th:only-of-type {\n",
       "        vertical-align: middle;\n",
       "    }\n",
       "\n",
       "    .dataframe tbody tr th {\n",
       "        vertical-align: top;\n",
       "    }\n",
       "\n",
       "    .dataframe thead th {\n",
       "        text-align: right;\n",
       "    }\n",
       "</style>\n",
       "<table border=\"1\" class=\"dataframe\">\n",
       "  <thead>\n",
       "    <tr style=\"text-align: right;\">\n",
       "      <th></th>\n",
       "      <th>ID</th>\n",
       "      <th>geometry</th>\n",
       "      <th>estat</th>\n",
       "      <th>tipus</th>\n",
       "      <th>longitud_km</th>\n",
       "      <th>carrer</th>\n",
       "      <th>sentit</th>\n",
       "    </tr>\n",
       "  </thead>\n",
       "  <tbody>\n",
       "    <tr>\n",
       "      <th>0</th>\n",
       "      <td>GL411365</td>\n",
       "      <td>LINESTRING (426639.380 4582064.042, 426622.491...</td>\n",
       "      <td>En construcció</td>\n",
       "      <td>Carril bici (en construcció)</td>\n",
       "      <td>0.779218</td>\n",
       "      <td>Bidireccional av Pius XII</td>\n",
       "      <td></td>\n",
       "    </tr>\n",
       "    <tr>\n",
       "      <th>1</th>\n",
       "      <td>GL412073</td>\n",
       "      <td>LINESTRING (428536.603 4578089.355, 427737.746...</td>\n",
       "      <td>En construcció</td>\n",
       "      <td>Carril bici (en construcció)</td>\n",
       "      <td>1.704288</td>\n",
       "      <td>pg Zona Franca - sentit muntanya</td>\n",
       "      <td></td>\n",
       "    </tr>\n",
       "    <tr>\n",
       "      <th>2</th>\n",
       "      <td>GL412074</td>\n",
       "      <td>LINESTRING (427711.884 4579559.962, 427720.036...</td>\n",
       "      <td>En construcció</td>\n",
       "      <td>Carril bici (en construcció)</td>\n",
       "      <td>0.243038</td>\n",
       "      <td>plaça Cerdà</td>\n",
       "      <td></td>\n",
       "    </tr>\n",
       "  </tbody>\n",
       "</table>\n",
       "</div>"
      ],
      "text/plain": [
       "         ID                                           geometry  \\\n",
       "0  GL411365  LINESTRING (426639.380 4582064.042, 426622.491...   \n",
       "1  GL412073  LINESTRING (428536.603 4578089.355, 427737.746...   \n",
       "2  GL412074  LINESTRING (427711.884 4579559.962, 427720.036...   \n",
       "\n",
       "            estat                         tipus  longitud_km  \\\n",
       "0  En construcció  Carril bici (en construcció)     0.779218   \n",
       "1  En construcció  Carril bici (en construcció)     1.704288   \n",
       "2  En construcció  Carril bici (en construcció)     0.243038   \n",
       "\n",
       "                              carrer sentit  \n",
       "0          Bidireccional av Pius XII         \n",
       "1   pg Zona Franca - sentit muntanya         \n",
       "2                        plaça Cerdà         "
      ]
     },
     "execution_count": 78,
     "metadata": {},
     "output_type": "execute_result"
    }
   ],
   "source": [
    "# Carril bici en construcció\n",
    "\n",
    "# Lectura de dades\n",
    "carril_bici_construccio = gpd.read_file('datasets/CARRIL_BICI_CONSTRUCCIO/CARRIL_BICI_CONSTRUCCIO.shp')\n",
    "\n",
    "# Divisió per districtes\n",
    "for i in range(len(districtes)):\n",
    "    tmp = gpd.clip(carril_bici_construccio, districtes.iloc[i].geometry)\n",
    "    tmp['districte'] = districtes.iloc[i].Districte\n",
    "    carril_bici = carril_bici.append(tmp, ignore_index=True)\n",
    "\n",
    "# Creació i selecció d'atributs\n",
    "carril_bici_construccio['estat'] = 'En construcció'\n",
    "carril_bici_construccio['tipus'] = 'Carril bici (en construcció)'\n",
    "carril_bici_construccio['longitud_km'] = carril_bici_construccio.length / 1000\n",
    "carril_bici_construccio['carrer'] = carril_bici_construccio['TOOLTIP'].apply(lambda x: x[27:])\n",
    "carril_bici_construccio['sentit'] = ''\n",
    "carril_bici_construccio.drop(columns=['CODI_CAPA','CODI_SUBCA', 'TOOLTIP'], inplace=True)\n",
    "\n",
    "# Unió dades\n",
    "carril_bici = carril_bici.append(carril_bici_construccio, ignore_index=True)\n",
    "\n",
    "carril_bici_construccio.head(3)"
   ]
  },
  {
   "cell_type": "code",
   "execution_count": 79,
   "metadata": {},
   "outputs": [
    {
     "data": {
      "text/plain": [
       "<matplotlib.axes._subplots.AxesSubplot at 0x126182790>"
      ]
     },
     "execution_count": 79,
     "metadata": {},
     "output_type": "execute_result"
    },
    {
     "data": {
      "image/png": "[encoded data removed]",
      "text/plain": [
       "<Figure size 432x288 with 1 Axes>"
      ]
     },
     "metadata": {
      "needs_background": "light"
     },
     "output_type": "display_data"
    }
   ],
   "source": [
    "carril_bici.plot(column='districte')"
   ]
  },
  {
   "cell_type": "markdown",
   "metadata": {},
   "source": [
    "## Vies ciclables\n",
    "\n",
    "* Zones de vianants amb plataforma única (carrer 10 i 20) - Aquestes zones de prioritat invertida són àrees o carrers on les condicions de circulació de vehicles queden restringides a favor de la circulació de vianants. En aquestes zones, les bicicletes, els patins i els patinets gaudeixen de prioritat sobre la resta de vehicles, però no sobre els vianants, i poden circular en tots dos sentits de la via.\n",
    "* Carrer Bici (carrer 30) - Són carrers de trànsit pacificat en els quals es promou la circulació de ciclistes, ja que el tràfic d'automòbils té limitada la seva velocitat a 30 km/h. En aquests carrers, les bicicletes han de circular en el sentit de la circulació de la via i tenen prioritat sobre la circulació de la resta de vehicles, però no sobre els vianants.\n"
   ]
  },
  {
   "cell_type": "code",
   "execution_count": 46,
   "metadata": {
    "scrolled": true
   },
   "outputs": [
    {
     "data": {
      "text/html": [
       "<div>\n",
       "<style scoped>\n",
       "    .dataframe tbody tr th:only-of-type {\n",
       "        vertical-align: middle;\n",
       "    }\n",
       "\n",
       "    .dataframe tbody tr th {\n",
       "        vertical-align: top;\n",
       "    }\n",
       "\n",
       "    .dataframe thead th {\n",
       "        text-align: right;\n",
       "    }\n",
       "</style>\n",
       "<table border=\"1\" class=\"dataframe\">\n",
       "  <thead>\n",
       "    <tr style=\"text-align: right;\">\n",
       "      <th></th>\n",
       "      <th>ID</th>\n",
       "      <th>geometry</th>\n",
       "      <th>longitud_km</th>\n",
       "      <th>carrer</th>\n",
       "    </tr>\n",
       "  </thead>\n",
       "  <tbody>\n",
       "    <tr>\n",
       "      <th>0</th>\n",
       "      <td>GL387131</td>\n",
       "      <td>LINESTRING (428457.967 4578985.824, 428414.724...</td>\n",
       "      <td>0.848331</td>\n",
       "      <td>Carrer ferrocarrils Catalans</td>\n",
       "    </tr>\n",
       "    <tr>\n",
       "      <th>1</th>\n",
       "      <td>GL387132</td>\n",
       "      <td>LINESTRING (428673.207 4578158.057, 428668.906...</td>\n",
       "      <td>0.390423</td>\n",
       "      <td>Carrer Encuny</td>\n",
       "    </tr>\n",
       "  </tbody>\n",
       "</table>\n",
       "</div>"
      ],
      "text/plain": [
       "         ID                                           geometry  longitud_km  \\\n",
       "0  GL387131  LINESTRING (428457.967 4578985.824, 428414.724...     0.848331   \n",
       "1  GL387132  LINESTRING (428673.207 4578158.057, 428668.906...     0.390423   \n",
       "\n",
       "                         carrer  \n",
       "0  Carrer ferrocarrils Catalans  \n",
       "1                 Carrer Encuny  "
      ]
     },
     "execution_count": 46,
     "metadata": {},
     "output_type": "execute_result"
    }
   ],
   "source": [
    "# Vies ciclables\n",
    "\n",
    "vies_ciclables = gpd.read_file('datasets/VIES_CICLABLES/VIES_CICLABLES.shp')\n",
    "vies_ciclables = vies_ciclables.to_crs(carril_bici.crs)\n",
    "vies_ciclables['longitud_km'] = vies_ciclables.length / 1000\n",
    "vies_ciclables['carrer'] = vies_ciclables['TOOLTIP'].apply(lambda x: x[14:])\n",
    "vies_ciclables.drop(columns=['CODI_CAPA','CODI_SUBCA','TOOLTIP'], inplace=True)\n",
    "vies_ciclables.head(2)"
   ]
  },
  {
   "cell_type": "markdown",
   "metadata": {},
   "source": [
    "## Zona 30"
   ]
  },
  {
   "cell_type": "code",
   "execution_count": 47,
   "metadata": {},
   "outputs": [
    {
     "data": {
      "text/html": [
       "<div>\n",
       "<style scoped>\n",
       "    .dataframe tbody tr th:only-of-type {\n",
       "        vertical-align: middle;\n",
       "    }\n",
       "\n",
       "    .dataframe tbody tr th {\n",
       "        vertical-align: top;\n",
       "    }\n",
       "\n",
       "    .dataframe thead th {\n",
       "        text-align: right;\n",
       "    }\n",
       "</style>\n",
       "<table border=\"1\" class=\"dataframe\">\n",
       "  <thead>\n",
       "    <tr style=\"text-align: right;\">\n",
       "      <th></th>\n",
       "      <th>ID</th>\n",
       "      <th>geometry</th>\n",
       "      <th>longitud_km</th>\n",
       "    </tr>\n",
       "  </thead>\n",
       "  <tbody>\n",
       "    <tr>\n",
       "      <th>0</th>\n",
       "      <td>GL77995</td>\n",
       "      <td>LINESTRING (428935.851 4583245.483, 428874.674...</td>\n",
       "      <td>0.076005</td>\n",
       "    </tr>\n",
       "    <tr>\n",
       "      <th>1</th>\n",
       "      <td>GL77996</td>\n",
       "      <td>LINESTRING (428929.413 4583329.827, 428887.076...</td>\n",
       "      <td>0.064934</td>\n",
       "    </tr>\n",
       "  </tbody>\n",
       "</table>\n",
       "</div>"
      ],
      "text/plain": [
       "        ID                                           geometry  longitud_km\n",
       "0  GL77995  LINESTRING (428935.851 4583245.483, 428874.674...     0.076005\n",
       "1  GL77996  LINESTRING (428929.413 4583329.827, 428887.076...     0.064934"
      ]
     },
     "execution_count": 47,
     "metadata": {},
     "output_type": "execute_result"
    }
   ],
   "source": [
    "zones30 = gpd.read_file('datasets/ZONES30_CARRERS/ZONES30_CARRERS.shp')\n",
    "zones30['longitud_km'] = zones30.length / 1000\n",
    "zones30.drop(columns=['CODI_CAPA','CODI_SUBCA','TOOLTIP'], inplace=True)\n",
    "zones30.head(2)"
   ]
  },
  {
   "cell_type": "markdown",
   "metadata": {},
   "source": [
    "## Ronda verda"
   ]
  },
  {
   "cell_type": "code",
   "execution_count": 52,
   "metadata": {},
   "outputs": [
    {
     "data": {
      "text/html": [
       "<div>\n",
       "<style scoped>\n",
       "    .dataframe tbody tr th:only-of-type {\n",
       "        vertical-align: middle;\n",
       "    }\n",
       "\n",
       "    .dataframe tbody tr th {\n",
       "        vertical-align: top;\n",
       "    }\n",
       "\n",
       "    .dataframe thead th {\n",
       "        text-align: right;\n",
       "    }\n",
       "</style>\n",
       "<table border=\"1\" class=\"dataframe\">\n",
       "  <thead>\n",
       "    <tr style=\"text-align: right;\">\n",
       "      <th></th>\n",
       "      <th>ID</th>\n",
       "      <th>geometry</th>\n",
       "      <th>longitud_km</th>\n",
       "      <th>carrer</th>\n",
       "    </tr>\n",
       "  </thead>\n",
       "  <tbody>\n",
       "    <tr>\n",
       "      <th>0</th>\n",
       "      <td>GL385629</td>\n",
       "      <td>LINESTRING (430754.622 4589414.253, 430784.587...</td>\n",
       "      <td>6.305380</td>\n",
       "      <td>ronda verda 2</td>\n",
       "    </tr>\n",
       "    <tr>\n",
       "      <th>1</th>\n",
       "      <td>GL385569</td>\n",
       "      <td>LINESTRING (431077.126 4580518.898, 431094.584...</td>\n",
       "      <td>4.058222</td>\n",
       "      <td>Ronda Colom - Moll Barceloneta - Pg. Marítim d...</td>\n",
       "    </tr>\n",
       "  </tbody>\n",
       "</table>\n",
       "</div>"
      ],
      "text/plain": [
       "         ID                                           geometry  longitud_km  \\\n",
       "0  GL385629  LINESTRING (430754.622 4589414.253, 430784.587...     6.305380   \n",
       "1  GL385569  LINESTRING (431077.126 4580518.898, 431094.584...     4.058222   \n",
       "\n",
       "                                              carrer  \n",
       "0                                      ronda verda 2  \n",
       "1  Ronda Colom - Moll Barceloneta - Pg. Marítim d...  "
      ]
     },
     "execution_count": 52,
     "metadata": {},
     "output_type": "execute_result"
    }
   ],
   "source": [
    "# ronda_verda verda\n",
    "\n",
    "ronda_verda = gpd.read_file('datasets/RONDA_VERDA/RONDA_VERDA.shp')\n",
    "ronda_verda['longitud_km'] = ronda_verda.length / 1000\n",
    "ronda_verda['carrer'] = ronda_verda['TOOLTIP'].apply(lambda x: x.split(': ',1)[1])\n",
    "ronda_verda.drop(columns=['CODI_CAPA','CODI_SUBCA', 'TOOLTIP'], inplace=True)\n",
    "ronda_verda.head(2)"
   ]
  },
  {
   "cell_type": "markdown",
   "metadata": {},
   "source": [
    "## Corredors bici"
   ]
  },
  {
   "cell_type": "code",
   "execution_count": 49,
   "metadata": {},
   "outputs": [
    {
     "data": {
      "text/html": [
       "<div>\n",
       "<style scoped>\n",
       "    .dataframe tbody tr th:only-of-type {\n",
       "        vertical-align: middle;\n",
       "    }\n",
       "\n",
       "    .dataframe tbody tr th {\n",
       "        vertical-align: top;\n",
       "    }\n",
       "\n",
       "    .dataframe thead th {\n",
       "        text-align: right;\n",
       "    }\n",
       "</style>\n",
       "<table border=\"1\" class=\"dataframe\">\n",
       "  <thead>\n",
       "    <tr style=\"text-align: right;\">\n",
       "      <th></th>\n",
       "      <th>ID</th>\n",
       "      <th>geometry</th>\n",
       "      <th>longitud_km</th>\n",
       "    </tr>\n",
       "  </thead>\n",
       "  <tbody>\n",
       "    <tr>\n",
       "      <th>0</th>\n",
       "      <td>GL411915</td>\n",
       "      <td>LINESTRING (428780.552 4580888.193, 428738.287...</td>\n",
       "      <td>0.159959</td>\n",
       "    </tr>\n",
       "    <tr>\n",
       "      <th>1</th>\n",
       "      <td>GL411916</td>\n",
       "      <td>LINESTRING (428871.119 4580974.447, 429078.991...</td>\n",
       "      <td>0.320414</td>\n",
       "    </tr>\n",
       "  </tbody>\n",
       "</table>\n",
       "</div>"
      ],
      "text/plain": [
       "         ID                                           geometry  longitud_km\n",
       "0  GL411915  LINESTRING (428780.552 4580888.193, 428738.287...     0.159959\n",
       "1  GL411916  LINESTRING (428871.119 4580974.447, 429078.991...     0.320414"
      ]
     },
     "execution_count": 49,
     "metadata": {},
     "output_type": "execute_result"
    }
   ],
   "source": [
    "# Corredors bici\n",
    "\n",
    "corredors_bici = gpd.read_file('datasets/CORREDORS_BICI/CORREDORS_BICI.shp')\n",
    "corredors_bici = corredors_bici.to_crs(carril_bici.crs)\n",
    "corredors_bici['longitud_km'] = corredors_bici.length / 1000\n",
    "corredors_bici.drop(columns=['CODI_CAPA','CODI_SUBCA','TOOLTIP'], inplace=True)\n",
    "corredors_bici.head(2)"
   ]
  },
  {
   "cell_type": "markdown",
   "metadata": {},
   "source": [
    "## Carrers pacificats"
   ]
  },
  {
   "cell_type": "code",
   "execution_count": 50,
   "metadata": {},
   "outputs": [
    {
     "data": {
      "text/html": [
       "<div>\n",
       "<style scoped>\n",
       "    .dataframe tbody tr th:only-of-type {\n",
       "        vertical-align: middle;\n",
       "    }\n",
       "\n",
       "    .dataframe tbody tr th {\n",
       "        vertical-align: top;\n",
       "    }\n",
       "\n",
       "    .dataframe thead th {\n",
       "        text-align: right;\n",
       "    }\n",
       "</style>\n",
       "<table border=\"1\" class=\"dataframe\">\n",
       "  <thead>\n",
       "    <tr style=\"text-align: right;\">\n",
       "      <th></th>\n",
       "      <th>ID</th>\n",
       "      <th>geometry</th>\n",
       "      <th>longitud_km</th>\n",
       "    </tr>\n",
       "  </thead>\n",
       "  <tbody>\n",
       "    <tr>\n",
       "      <th>0</th>\n",
       "      <td>GL386984</td>\n",
       "      <td>LINESTRING (428886.421 4581537.262, 429275.555...</td>\n",
       "      <td>0.561546</td>\n",
       "    </tr>\n",
       "    <tr>\n",
       "      <th>1</th>\n",
       "      <td>GL386985</td>\n",
       "      <td>LINESTRING (429067.231 4581348.590, 430690.589...</td>\n",
       "      <td>2.273649</td>\n",
       "    </tr>\n",
       "  </tbody>\n",
       "</table>\n",
       "</div>"
      ],
      "text/plain": [
       "         ID                                           geometry  longitud_km\n",
       "0  GL386984  LINESTRING (428886.421 4581537.262, 429275.555...     0.561546\n",
       "1  GL386985  LINESTRING (429067.231 4581348.590, 430690.589...     2.273649"
      ]
     },
     "execution_count": 50,
     "metadata": {},
     "output_type": "execute_result"
    }
   ],
   "source": [
    "# Carrers pacificats\n",
    "\n",
    "carrers_pacificats = gpd.read_file('datasets/CARRERS_PACIFICATS/CARRERS_PACIFICATS.shp')\n",
    "carrers_pacificats = carrers_pacificats.to_crs(carril_bici.crs)\n",
    "carrers_pacificats['longitud_km'] = carrers_pacificats.length / 1000\n",
    "carrers_pacificats.drop(columns=['CODI_CAPA','CODI_SUBCA','TOOLTIP'], inplace=True)\n",
    "carrers_pacificats.head(2)"
   ]
  },
  {
   "cell_type": "markdown",
   "metadata": {},
   "source": [
    "## Exportació de dades"
   ]
  },
  {
   "cell_type": "code",
   "execution_count": 53,
   "metadata": {
    "scrolled": true
   },
   "outputs": [
    {
     "name": "stdout",
     "output_type": "stream",
     "text": [
      "CARRIL_BICI guardat correctament.\n",
      "VIES_CICLABLES guardat correctament.\n",
      "ZONES30 guardat correctament.\n",
      "RONDA_VERDA guardat correctament.\n",
      "CORREDORS_BICI guardat correctament.\n",
      "CARRERS_PACIFICATS guardat correctament.\n",
      "CARRIL_BICI_ALTRES_MUNICIPIS guardat correctament.\n",
      "CARRIL_BICI_CONSTRUCCIO guardat correctament.\n"
     ]
    }
   ],
   "source": [
    "save_data(carril_bici, 'CARRIL_BICI')\n",
    "save_data(vies_ciclables, 'VIES_CICLABLES')\n",
    "save_data(zones30, 'ZONES30')\n",
    "save_data(ronda_verda, 'RONDA_VERDA')\n",
    "save_data(corredors_bici, 'CORREDORS_BICI')\n",
    "save_data(carrers_pacificats, 'CARRERS_PACIFICATS')\n",
    "save_data(carril_bici_altres, 'CARRIL_BICI_ALTRES_MUNICIPIS')\n",
    "save_data(carril_bici_construccio, 'CARRIL_BICI_CONSTRUCCIO')"
   ]
  }
 ],
 "metadata": {
  "kernelspec": {
   "display_name": "Python 3",
   "language": "python",
   "name": "python3"
  },
  "language_info": {
   "codemirror_mode": {
    "name": "ipython",
    "version": 3
   },
   "file_extension": ".py",
   "mimetype": "text/x-python",
   "name": "python",
   "nbconvert_exporter": "python",
   "pygments_lexer": "ipython3",
   "version": "3.7.6"
  }
 },
 "nbformat": 4,
 "nbformat_minor": 4
}
