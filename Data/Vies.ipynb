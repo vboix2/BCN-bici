{
 "cells": [
  {
   "cell_type": "code",
   "execution_count": 44,
   "metadata": {},
   "outputs": [],
   "source": [
    "# Paquets\n",
    "\n",
    "import pandas as pd\n",
    "import geopandas as gpd\n",
    "import zipfile\n",
    "import urllib.request\n",
    "import os"
   ]
  },
  {
   "cell_type": "code",
   "execution_count": 68,
   "metadata": {},
   "outputs": [],
   "source": [
    "# Paràmetres\n",
    "\n",
    "# Directori de treball\n",
    "WORK_DIR = os.path.abspath(os.getcwd())\n",
    "\n",
    "# Directori de descàrregues\n",
    "if not os.path.exists('downloads'):\n",
    "    os.makedirs('downloads')\n",
    "if not os.path.exists('tmp'):\n",
    "    os.makedirs('tmp')\n",
    "if not os.path.exists('map'):\n",
    "    os.makedirs('map')\n",
    "\n",
    "# Enllaços de descàrrega\n",
    "URL_RONDA_VERDA = 'https://opendata-ajuntament.barcelona.cat/data/dataset/18990935-6b67-49d4-9e92-2171d439ee59/resource/9c0a6e3b-ff5b-43ae-83a5-4219ad7e5e12/download'\n",
    "URL_CARRIL_BICI = 'https://opendata-ajuntament.barcelona.cat/data/dataset/e3497ea4-0bae-4093-94a7-119df50a8a74/resource/357d14d1-c312-450d-a900-c15c3160a187/download'\n",
    "URL_CARRIL_BICI_ALTRES_MUNICIPIS = 'https://opendata-ajuntament.barcelona.cat/data/dataset/bcbfe860-7838-468c-b78e-f15d3b9e01f8/resource/b1652bb0-33c1-4c66-81a6-ad46c8504e7e/download'\n",
    "URL_CARRIL_BICI_CONSTRUCCIO = 'https://opendata-ajuntament.barcelona.cat/data/dataset/edee68e3-5ff1-43d0-b556-12c5d8eb019e/resource/3535ae40-e365-42be-adcf-3a5301948e0b/download'\n",
    "URL_VIES_CICLABLES = 'https://opendata-ajuntament.barcelona.cat/data/dataset/ae147deb-1b95-4b25-aa3a-b57067f000bc/resource/af4287f7-d1d6-4988-95b0-bf00ff8b31b0/download'\n",
    "URL_ZONES30_CARRERS = 'https://opendata-ajuntament.barcelona.cat/data/dataset/2258826a-67ba-4429-a500-30472ff6251a/resource/4ae49ce7-df4f-4d76-90e5-bd0e08ba1e4e/download'\n",
    "URL_CARRERS_PACIFICATS = 'https://opendata-ajuntament.barcelona.cat/data/dataset/335bceee-7988-4899-b2fa-accba6a917c7/resource/d9f9d46c-d55c-419c-93f6-02b3d26beb00/download'\n",
    "URL_CORREDORS_BICI = 'https://opendata-ajuntament.barcelona.cat/data/dataset/af083278-6873-4a3c-b3d5-68860cc769af/resource/4ee104ac-945e-44c8-8459-b499c9113340/download'\n"
   ]
  },
  {
   "cell_type": "code",
   "execution_count": 71,
   "metadata": {},
   "outputs": [],
   "source": [
    "# Funcions\n",
    "\n",
    "def get_data(url, filename):\n",
    "    \"\"\"Descarrega i descomprimeix les dades a la carpeta 'datasets'.\"\"\"\n",
    "    try:\n",
    "        urllib.request.urlretrieve(url, WORK_DIR + '/downloads/' + filename + '.zip')\n",
    "        zf = zipfile.ZipFile('downloads/' + filename + \".zip\")\n",
    "        zf.extractall(path = 'datasets/' + filename)\n",
    "        print(filename + \" descarregat correctament.\")\n",
    "    except:\n",
    "        print(\"Problema descarregant: \" + filename)\n",
    "        \n",
    "def save_data(gdf, filename):\n",
    "    \"\"\"Guarda un geodataframe en format SHP, el comprimeix i el desa a la carpeta 'map'.\"\"\"\n",
    "    gdf.to_file('tmp/' + filename + '.shp')\n",
    "    zf = zipfile.ZipFile('map/' + filename + \".zip\", \"w\", zipfile.ZIP_DEFLATED)\n",
    "    zf.write('tmp/' + filename + \".dbf\")\n",
    "    zf.write('tmp/' + filename + \".shp\")\n",
    "    zf.write('tmp/' + filename + \".prj\")\n",
    "    zf.write('tmp/' + filename + \".shx\")\n",
    "    zf.write('tmp/' + filename + \".cpg\")\n",
    "    zf.close()\n",
    "    print(filename + ' guardat correctament.')"
   ]
  },
  {
   "cell_type": "code",
   "execution_count": 63,
   "metadata": {},
   "outputs": [
    {
     "name": "stdout",
     "output_type": "stream",
     "text": [
      "RONDA_VERDA descarregat correctament.\n",
      "CARRIL_BICI descarregat correctament.\n",
      "CARRIL_BICI_CONSTRUCCIO descarregat correctament.\n"
     ]
    }
   ],
   "source": [
    "# Captura de dades\n",
    "\n",
    "get_data(URL_CARRIL_BICI, 'CARRIL_BICI')\n",
    "get_data(URL_CARRIL_BICI_ALTRES_MUNICIPIS, 'CARRIL_BICI_ALTRES_MUNICIPIS')\n",
    "get_data(URL_CARRIL_BICI_CONSTRUCCIO, 'CARRIL_BICI_CONSTRUCCIO')\n",
    "get_data(URL_RONDA_VERDA, 'RONDA_VERDA')\n",
    "get_data(URL_VIES_CICLABLES, 'VIES_CICLABLES')\n",
    "get_data(URL_ZONES30_CARRERS, 'ZONES30_CARRERS')\n",
    "get_data(URL_CARRERS_PACIFICATS, 'CARRERS_PACIFICATS')\n",
    "get_data(URL_CORREDORS_BICI, 'CORREDORS_BICI')\n"
   ]
  },
  {
   "cell_type": "markdown",
   "metadata": {},
   "source": [
    "## Carrils bici\n",
    "\n",
    "* Bidireccional en vorera - Permet la circulació de bicicletes en tots dos sentits de la circulació.  Com a exemples d’aquest tipus de carril, tenim l’avinguda Diagonal, des de Francesc Macià al Palau de Pedralbes, o la Gran Via de les Corts Catalanes des de plaça d'Espanya a l'avinguda del Carrilet.\n",
    "* Unidireccional en vorera - Permet la circulació en un únic sentit. És el que trobem a les tercianes de la Gran Via de les Corts Catalanes, entre la plaça d’Espanya i el carrer d’Aribau, o entre els carrers de Pau Claris i la Marina; i a les tercianes de l'avinguda Diagonal, entre el passeig de Gràcia i Sicília.\n",
    "* Bidireccional en calçada - Permet la circulació de bicicletes en els dos sentits de la marxa. Normalment se situen a l'esquerra de la via en el sentit de la circulació dels altres vehicles (carrers de Calàbria, Marquès de Sentmenat, Urgell, Sicília, Provença, Teodor Llorente, etcètera). D'aquesta manera, el ciclista que circula en sentit contrari al trànsit rodat va més protegit. Aquest tipus de carril també pot estar situat al mig de la via, com per exemple al passeig de Sant Joan o a l’avinguda del Paral·lel.\n",
    "* Unidireccional en calçada - Pot ser en el mateix sentit de la circulació (com les de l’avinguda Diagonal, la plaça de Francesc Macià, el passeig de Gràcia o els carrers Diputació i el Consell de Cent), o en sentit contrari, emprat especialment en carrers bici (30) per permetre la circulació de bicicletes en sentit contrari al propi de la via. És el cas de la carretera de la Bordeta o el carrer de la Jota."
   ]
  },
  {
   "cell_type": "code",
   "execution_count": 26,
   "metadata": {},
   "outputs": [
    {
     "data": {
      "text/html": [
       "<div>\n",
       "<style scoped>\n",
       "    .dataframe tbody tr th:only-of-type {\n",
       "        vertical-align: middle;\n",
       "    }\n",
       "\n",
       "    .dataframe tbody tr th {\n",
       "        vertical-align: top;\n",
       "    }\n",
       "\n",
       "    .dataframe thead th {\n",
       "        text-align: right;\n",
       "    }\n",
       "</style>\n",
       "<table border=\"1\" class=\"dataframe\">\n",
       "  <thead>\n",
       "    <tr style=\"text-align: right;\">\n",
       "      <th></th>\n",
       "      <th>ID</th>\n",
       "      <th>geometry</th>\n",
       "      <th>longitud_km</th>\n",
       "      <th>tipus</th>\n",
       "      <th>carrer</th>\n",
       "      <th>sentit</th>\n",
       "    </tr>\n",
       "  </thead>\n",
       "  <tbody>\n",
       "    <tr>\n",
       "      <th>0</th>\n",
       "      <td>GL387150</td>\n",
       "      <td>LINESTRING (432734.577 4586875.597, 432560.232...</td>\n",
       "      <td>0.178044</td>\n",
       "      <td>Carril bici</td>\n",
       "      <td>Carrer Mossen Quintí Mallofré</td>\n",
       "      <td>unidireccional</td>\n",
       "    </tr>\n",
       "  </tbody>\n",
       "</table>\n",
       "</div>"
      ],
      "text/plain": [
       "         ID                                           geometry  longitud_km  \\\n",
       "0  GL387150  LINESTRING (432734.577 4586875.597, 432560.232...     0.178044   \n",
       "\n",
       "         tipus                         carrer          sentit  \n",
       "0  Carril bici  Carrer Mossen Quintí Mallofré  unidireccional  "
      ]
     },
     "execution_count": 26,
     "metadata": {},
     "output_type": "execute_result"
    }
   ],
   "source": [
    "# Carril bici\n",
    "\n",
    "carril_bici = gpd.read_file('datasets/CARRIL_BICI/CARRIL_BICI.shp')\n",
    "carril_bici['longitud_km'] = carril_bici.length / 1000\n",
    "carril_bici['tipus'] = 'Carril bici'\n",
    "carril_bici['TOOLTIP'] = carril_bici['TOOLTIP'].apply(lambda x: x[12:].split(' ',1))\n",
    "carril_bici['carrer'] = carril_bici['TOOLTIP'].apply(lambda x: x[1])\n",
    "carril_bici['sentit'] = carril_bici['TOOLTIP'].apply(lambda x: x[0])\n",
    "carril_bici.drop(columns=['CODI_CAPA','CODI_SUBCA','TOOLTIP'], inplace=True)\n",
    "carril_bici.head(2)"
   ]
  },
  {
   "cell_type": "code",
   "execution_count": 72,
   "metadata": {},
   "outputs": [
    {
     "name": "stdout",
     "output_type": "stream",
     "text": [
      "CARRIL_BICI guardat correctament.\n"
     ]
    }
   ],
   "source": [
    "save_data(carril_bici, 'CARRIL_BICI')"
   ]
  },
  {
   "cell_type": "markdown",
   "metadata": {},
   "source": [
    "## Vies ciclables\n",
    "\n",
    "* Zones de vianants amb plataforma única (carrer 10 i 20) - Aquestes zones de prioritat invertida són àrees o carrers on les condicions de circulació de vehicles queden restringides a favor de la circulació de vianants. En aquestes zones, les bicicletes, els patins i els patinets gaudeixen de prioritat sobre la resta de vehicles, però no sobre els vianants, i poden circular en tots dos sentits de la via.\n",
    "* Carrer Bici (carrer 30) - Són carrers de trànsit pacificat en els quals es promou la circulació de ciclistes, ja que el tràfic d'automòbils té limitada la seva velocitat a 30 km/h. En aquests carrers, les bicicletes han de circular en el sentit de la circulació de la via i tenen prioritat sobre la circulació de la resta de vehicles, però no sobre els vianants.\n"
   ]
  },
  {
   "cell_type": "code",
   "execution_count": 17,
   "metadata": {
    "scrolled": true
   },
   "outputs": [
    {
     "data": {
      "text/html": [
       "<div>\n",
       "<style scoped>\n",
       "    .dataframe tbody tr th:only-of-type {\n",
       "        vertical-align: middle;\n",
       "    }\n",
       "\n",
       "    .dataframe tbody tr th {\n",
       "        vertical-align: top;\n",
       "    }\n",
       "\n",
       "    .dataframe thead th {\n",
       "        text-align: right;\n",
       "    }\n",
       "</style>\n",
       "<table border=\"1\" class=\"dataframe\">\n",
       "  <thead>\n",
       "    <tr style=\"text-align: right;\">\n",
       "      <th></th>\n",
       "      <th>ID</th>\n",
       "      <th>TOOLTIP</th>\n",
       "      <th>geometry</th>\n",
       "      <th>longitud_km</th>\n",
       "    </tr>\n",
       "  </thead>\n",
       "  <tbody>\n",
       "    <tr>\n",
       "      <th>0</th>\n",
       "      <td>GL387131</td>\n",
       "      <td>Carrer ferrocarrils Catalans</td>\n",
       "      <td>LINESTRING (428457.967 4578985.824, 428414.724...</td>\n",
       "      <td>0.848331</td>\n",
       "    </tr>\n",
       "    <tr>\n",
       "      <th>1</th>\n",
       "      <td>GL387132</td>\n",
       "      <td>Carrer Encuny</td>\n",
       "      <td>LINESTRING (428673.207 4578158.057, 428668.906...</td>\n",
       "      <td>0.390423</td>\n",
       "    </tr>\n",
       "    <tr>\n",
       "      <th>2</th>\n",
       "      <td>GL387133</td>\n",
       "      <td>Carrer Alts Forns</td>\n",
       "      <td>LINESTRING (428121.119 4578916.741, 428319.011...</td>\n",
       "      <td>0.272353</td>\n",
       "    </tr>\n",
       "    <tr>\n",
       "      <th>3</th>\n",
       "      <td>GL387134</td>\n",
       "      <td>Carrer de la Foneria</td>\n",
       "      <td>LINESTRING (428225.932 4579367.022, 428236.291...</td>\n",
       "      <td>0.350659</td>\n",
       "    </tr>\n",
       "    <tr>\n",
       "      <th>4</th>\n",
       "      <td>GL387135</td>\n",
       "      <td>Carrer Novell</td>\n",
       "      <td>LINESTRING (427312.085 4581599.761, 427614.055...</td>\n",
       "      <td>0.507815</td>\n",
       "    </tr>\n",
       "    <tr>\n",
       "      <th>5</th>\n",
       "      <td>GL387136</td>\n",
       "      <td>Carrer del Frenopàtic</td>\n",
       "      <td>LINESTRING (427236.171 4581968.367, 427055.664...</td>\n",
       "      <td>0.190450</td>\n",
       "    </tr>\n",
       "    <tr>\n",
       "      <th>6</th>\n",
       "      <td>GL387137</td>\n",
       "      <td>Carrer de Les Corts</td>\n",
       "      <td>LINESTRING (427107.117 4582040.064, 427137.483...</td>\n",
       "      <td>0.362396</td>\n",
       "    </tr>\n",
       "    <tr>\n",
       "      <th>7</th>\n",
       "      <td>GL387138</td>\n",
       "      <td>Carrer Eugeni d'Ors</td>\n",
       "      <td>LINESTRING (427085.186 4581734.720, 427192.310...</td>\n",
       "      <td>0.115756</td>\n",
       "    </tr>\n",
       "    <tr>\n",
       "      <th>8</th>\n",
       "      <td>GL387139</td>\n",
       "      <td>Carrer del Remei</td>\n",
       "      <td>LINESTRING (427354.260 4581994.515, 427274.129...</td>\n",
       "      <td>0.099037</td>\n",
       "    </tr>\n",
       "    <tr>\n",
       "      <th>9</th>\n",
       "      <td>GL387140</td>\n",
       "      <td>Carrer Taquígraf Martí</td>\n",
       "      <td>LINESTRING (427292.685 4581891.609, 427377.878...</td>\n",
       "      <td>0.091631</td>\n",
       "    </tr>\n",
       "  </tbody>\n",
       "</table>\n",
       "</div>"
      ],
      "text/plain": [
       "         ID                       TOOLTIP  \\\n",
       "0  GL387131  Carrer ferrocarrils Catalans   \n",
       "1  GL387132                 Carrer Encuny   \n",
       "2  GL387133             Carrer Alts Forns   \n",
       "3  GL387134          Carrer de la Foneria   \n",
       "4  GL387135                 Carrer Novell   \n",
       "5  GL387136         Carrer del Frenopàtic   \n",
       "6  GL387137           Carrer de Les Corts   \n",
       "7  GL387138           Carrer Eugeni d'Ors   \n",
       "8  GL387139              Carrer del Remei   \n",
       "9  GL387140        Carrer Taquígraf Martí   \n",
       "\n",
       "                                            geometry  longitud_km  \n",
       "0  LINESTRING (428457.967 4578985.824, 428414.724...     0.848331  \n",
       "1  LINESTRING (428673.207 4578158.057, 428668.906...     0.390423  \n",
       "2  LINESTRING (428121.119 4578916.741, 428319.011...     0.272353  \n",
       "3  LINESTRING (428225.932 4579367.022, 428236.291...     0.350659  \n",
       "4  LINESTRING (427312.085 4581599.761, 427614.055...     0.507815  \n",
       "5  LINESTRING (427236.171 4581968.367, 427055.664...     0.190450  \n",
       "6  LINESTRING (427107.117 4582040.064, 427137.483...     0.362396  \n",
       "7  LINESTRING (427085.186 4581734.720, 427192.310...     0.115756  \n",
       "8  LINESTRING (427354.260 4581994.515, 427274.129...     0.099037  \n",
       "9  LINESTRING (427292.685 4581891.609, 427377.878...     0.091631  "
      ]
     },
     "execution_count": 17,
     "metadata": {},
     "output_type": "execute_result"
    }
   ],
   "source": [
    "# Vies ciclables\n",
    "\n",
    "vies_ciclables = gpd.read_file('VIES_CICLABLES/VIES_CICLABLES.shp')\n",
    "vies_ciclables = vies_ciclables.to_crs(bcn.crs)\n",
    "vies_ciclables['longitud_km'] = vies_ciclables.length / 1000\n",
    "vies_ciclables['carrer'] = vies_ciclables['TOOLTIP'].apply(lambda x: x[14:])\n",
    "vies_ciclables['sentit'] = 'bidireccional'\n",
    "vies_ciclables.drop(columns=['CODI_CAPA','CODI_SUBCA','TOOLTIP'], inplace=True)\n",
    "vies_ciclables.head(10)"
   ]
  },
  {
   "cell_type": "markdown",
   "metadata": {},
   "source": [
    "## Ronda verda"
   ]
  },
  {
   "cell_type": "code",
   "execution_count": 25,
   "metadata": {},
   "outputs": [
    {
     "data": {
      "text/html": [
       "<div>\n",
       "<style scoped>\n",
       "    .dataframe tbody tr th:only-of-type {\n",
       "        vertical-align: middle;\n",
       "    }\n",
       "\n",
       "    .dataframe tbody tr th {\n",
       "        vertical-align: top;\n",
       "    }\n",
       "\n",
       "    .dataframe thead th {\n",
       "        text-align: right;\n",
       "    }\n",
       "</style>\n",
       "<table border=\"1\" class=\"dataframe\">\n",
       "  <thead>\n",
       "    <tr style=\"text-align: right;\">\n",
       "      <th></th>\n",
       "      <th>ID</th>\n",
       "      <th>geometry</th>\n",
       "      <th>longitud_km</th>\n",
       "      <th>carrer</th>\n",
       "      <th>sentit</th>\n",
       "    </tr>\n",
       "  </thead>\n",
       "  <tbody>\n",
       "    <tr>\n",
       "      <th>0</th>\n",
       "      <td>GL385629</td>\n",
       "      <td>LINESTRING (430754.622 4589414.253, 430784.587...</td>\n",
       "      <td>6.305380</td>\n",
       "      <td>ronda verda 2</td>\n",
       "      <td>bidireccional</td>\n",
       "    </tr>\n",
       "    <tr>\n",
       "      <th>1</th>\n",
       "      <td>GL385569</td>\n",
       "      <td>LINESTRING (431077.126 4580518.898, 431094.584...</td>\n",
       "      <td>4.058222</td>\n",
       "      <td>Ronda Colom - Moll Barceloneta - Pg. Marítim d...</td>\n",
       "      <td>bidireccional</td>\n",
       "    </tr>\n",
       "    <tr>\n",
       "      <th>2</th>\n",
       "      <td>GL385523</td>\n",
       "      <td>LINESTRING (432148.754 4591653.553, 432249.432...</td>\n",
       "      <td>10.047624</td>\n",
       "      <td>Ronda verda Riu besós</td>\n",
       "      <td>bidireccional</td>\n",
       "    </tr>\n",
       "    <tr>\n",
       "      <th>3</th>\n",
       "      <td>GL385125</td>\n",
       "      <td>LINESTRING (424645.172 4582087.589, 424621.717...</td>\n",
       "      <td>15.606607</td>\n",
       "      <td>Ronda Verda barris de la Marina</td>\n",
       "      <td>bidireccional</td>\n",
       "    </tr>\n",
       "    <tr>\n",
       "      <th>4</th>\n",
       "      <td>GL385110</td>\n",
       "      <td>LINESTRING (435658.775 4586087.257, 435541.111...</td>\n",
       "      <td>1.812804</td>\n",
       "      <td>Ronda Verda enllaç riu Besós - litoral</td>\n",
       "      <td>bidireccional</td>\n",
       "    </tr>\n",
       "    <tr>\n",
       "      <th>5</th>\n",
       "      <td>GL385011</td>\n",
       "      <td>LINESTRING (427637.169 4587318.294, 427576.204...</td>\n",
       "      <td>4.904333</td>\n",
       "      <td>Parc Forestal de la Meca</td>\n",
       "      <td>bidireccional</td>\n",
       "    </tr>\n",
       "    <tr>\n",
       "      <th>6</th>\n",
       "      <td>GL384984</td>\n",
       "      <td>LINESTRING (432815.358 4582172.993, 433069.996...</td>\n",
       "      <td>3.311726</td>\n",
       "      <td>Pg. Marítim de la Mar Bella</td>\n",
       "      <td>bidireccional</td>\n",
       "    </tr>\n",
       "    <tr>\n",
       "      <th>7</th>\n",
       "      <td>GL384985</td>\n",
       "      <td>LINESTRING (424645.172 4582087.589, 424613.133...</td>\n",
       "      <td>13.115061</td>\n",
       "      <td>carretera de les Aigües</td>\n",
       "      <td>bidireccional</td>\n",
       "    </tr>\n",
       "    <tr>\n",
       "      <th>8</th>\n",
       "      <td>GL384983</td>\n",
       "      <td>LINESTRING (429385.403 4588967.559, 429413.740...</td>\n",
       "      <td>2.065922</td>\n",
       "      <td>Coll de la Ventosa - Turó Blau - Turó d'en Cuiàs</td>\n",
       "      <td>bidireccional</td>\n",
       "    </tr>\n",
       "  </tbody>\n",
       "</table>\n",
       "</div>"
      ],
      "text/plain": [
       "         ID                                           geometry  longitud_km  \\\n",
       "0  GL385629  LINESTRING (430754.622 4589414.253, 430784.587...     6.305380   \n",
       "1  GL385569  LINESTRING (431077.126 4580518.898, 431094.584...     4.058222   \n",
       "2  GL385523  LINESTRING (432148.754 4591653.553, 432249.432...    10.047624   \n",
       "3  GL385125  LINESTRING (424645.172 4582087.589, 424621.717...    15.606607   \n",
       "4  GL385110  LINESTRING (435658.775 4586087.257, 435541.111...     1.812804   \n",
       "5  GL385011  LINESTRING (427637.169 4587318.294, 427576.204...     4.904333   \n",
       "6  GL384984  LINESTRING (432815.358 4582172.993, 433069.996...     3.311726   \n",
       "7  GL384985  LINESTRING (424645.172 4582087.589, 424613.133...    13.115061   \n",
       "8  GL384983  LINESTRING (429385.403 4588967.559, 429413.740...     2.065922   \n",
       "\n",
       "                                              carrer         sentit  \n",
       "0                                      ronda verda 2  bidireccional  \n",
       "1  Ronda Colom - Moll Barceloneta - Pg. Marítim d...  bidireccional  \n",
       "2                              Ronda verda Riu besós  bidireccional  \n",
       "3                    Ronda Verda barris de la Marina  bidireccional  \n",
       "4             Ronda Verda enllaç riu Besós - litoral  bidireccional  \n",
       "5                           Parc Forestal de la Meca  bidireccional  \n",
       "6                        Pg. Marítim de la Mar Bella  bidireccional  \n",
       "7                            carretera de les Aigües  bidireccional  \n",
       "8   Coll de la Ventosa - Turó Blau - Turó d'en Cuiàs  bidireccional  "
      ]
     },
     "execution_count": 25,
     "metadata": {},
     "output_type": "execute_result"
    }
   ],
   "source": [
    "# Ronda verda\n",
    "\n",
    "ronda = gpd.read_file('RONDA_VERDA/RONDA_VERDA.shp')\n",
    "ronda['longitud_km'] = ronda.length / 1000\n",
    "ronda['carrer'] = ronda['TOOLTIP'].apply(lambda x: x.split(': ',1)[1])\n",
    "ronda['sentit'] = 'bidireccional'\n",
    "ronda.drop(columns=['CODI_CAPA','CODI_SUBCA', 'TOOLTIP'], inplace=True)\n",
    "ronda.head(10)"
   ]
  },
  {
   "cell_type": "code",
   "execution_count": 8,
   "metadata": {},
   "outputs": [
    {
     "data": {
      "text/html": [
       "<div>\n",
       "<style scoped>\n",
       "    .dataframe tbody tr th:only-of-type {\n",
       "        vertical-align: middle;\n",
       "    }\n",
       "\n",
       "    .dataframe tbody tr th {\n",
       "        vertical-align: top;\n",
       "    }\n",
       "\n",
       "    .dataframe thead th {\n",
       "        text-align: right;\n",
       "    }\n",
       "</style>\n",
       "<table border=\"1\" class=\"dataframe\">\n",
       "  <thead>\n",
       "    <tr style=\"text-align: right;\">\n",
       "      <th></th>\n",
       "      <th>ID</th>\n",
       "      <th>TOOLTIP</th>\n",
       "      <th>geometry</th>\n",
       "      <th>longitud_km</th>\n",
       "    </tr>\n",
       "  </thead>\n",
       "  <tbody>\n",
       "    <tr>\n",
       "      <th>0</th>\n",
       "      <td>GL411915</td>\n",
       "      <td>Corredors bici</td>\n",
       "      <td>LINESTRING (428780.552 4580888.193, 428738.287...</td>\n",
       "      <td>0.159959</td>\n",
       "    </tr>\n",
       "  </tbody>\n",
       "</table>\n",
       "</div>"
      ],
      "text/plain": [
       "         ID         TOOLTIP  \\\n",
       "0  GL411915  Corredors bici   \n",
       "\n",
       "                                            geometry  longitud_km  \n",
       "0  LINESTRING (428780.552 4580888.193, 428738.287...     0.159959  "
      ]
     },
     "execution_count": 8,
     "metadata": {},
     "output_type": "execute_result"
    }
   ],
   "source": [
    "# Corredors bici\n",
    "\n",
    "corredors = gpd.read_file('CORREDORS_BICI/CORREDORS_BICI.shp')\n",
    "corredors = corredors.to_crs(bcn.crs)\n",
    "corredors['longitud_km'] = corredors.length / 1000\n",
    "corredors.drop(columns=['CODI_CAPA','CODI_SUBCA'], inplace=True)\n",
    "corredors.head(1)"
   ]
  },
  {
   "cell_type": "code",
   "execution_count": 10,
   "metadata": {},
   "outputs": [
    {
     "data": {
      "text/html": [
       "<div>\n",
       "<style scoped>\n",
       "    .dataframe tbody tr th:only-of-type {\n",
       "        vertical-align: middle;\n",
       "    }\n",
       "\n",
       "    .dataframe tbody tr th {\n",
       "        vertical-align: top;\n",
       "    }\n",
       "\n",
       "    .dataframe thead th {\n",
       "        text-align: right;\n",
       "    }\n",
       "</style>\n",
       "<table border=\"1\" class=\"dataframe\">\n",
       "  <thead>\n",
       "    <tr style=\"text-align: right;\">\n",
       "      <th></th>\n",
       "      <th>ID</th>\n",
       "      <th>TOOLTIP</th>\n",
       "      <th>geometry</th>\n",
       "      <th>longitud_km</th>\n",
       "    </tr>\n",
       "  </thead>\n",
       "  <tbody>\n",
       "    <tr>\n",
       "      <th>0</th>\n",
       "      <td>GL386984</td>\n",
       "      <td>Carrers pacificats</td>\n",
       "      <td>LINESTRING (428886.421 4581537.262, 429275.555...</td>\n",
       "      <td>0.561546</td>\n",
       "    </tr>\n",
       "  </tbody>\n",
       "</table>\n",
       "</div>"
      ],
      "text/plain": [
       "         ID             TOOLTIP  \\\n",
       "0  GL386984  Carrers pacificats   \n",
       "\n",
       "                                            geometry  longitud_km  \n",
       "0  LINESTRING (428886.421 4581537.262, 429275.555...     0.561546  "
      ]
     },
     "execution_count": 10,
     "metadata": {},
     "output_type": "execute_result"
    }
   ],
   "source": [
    "# Carrers pacificats\n",
    "\n",
    "carrers_pacificats = gpd.read_file('CARRERS_PACIFICATS/CARRERS_PACIFICATS.shp')\n",
    "carrers_pacificats = carrers_pacificats.to_crs(bcn.crs)\n",
    "carrers_pacificats['longitud_km'] = carrers_pacificats.length / 1000\n",
    "carrers_pacificats.drop(columns=['CODI_CAPA','CODI_SUBCA'], inplace=True)\n",
    "carrers_pacificats.head(1)"
   ]
  },
  {
   "cell_type": "code",
   "execution_count": 35,
   "metadata": {
    "scrolled": true
   },
   "outputs": [
    {
     "data": {
      "text/plain": [
       "<matplotlib.axes._subplots.AxesSubplot at 0x124cf0d10>"
      ]
     },
     "execution_count": 35,
     "metadata": {},
     "output_type": "execute_result"
    },
    {
     "data": {
      "image/png": "[encoded data removed]",
      "text/plain": [
       "<Figure size 432x288 with 1 Axes>"
      ]
     },
     "metadata": {
      "needs_background": "light"
     },
     "output_type": "display_data"
    }
   ],
   "source": [
    "base = bcn.plot(color=\"orange\")\n",
    "ronda.plot(ax=base, color='red')\n",
    "carril_bici.plot(ax=base, color='green')\n",
    "vies_ciclables.plot(ax=base, color='blue')\n"
   ]
  }
 ],
 "metadata": {
  "kernelspec": {
   "display_name": "Python 3",
   "language": "python",
   "name": "python3"
  },
  "language_info": {
   "codemirror_mode": {
    "name": "ipython",
    "version": 3
   },
   "file_extension": ".py",
   "mimetype": "text/x-python",
   "name": "python",
   "nbconvert_exporter": "python",
   "pygments_lexer": "ipython3",
   "version": "3.7.6"
  }
 },
 "nbformat": 4,
 "nbformat_minor": 4
}
